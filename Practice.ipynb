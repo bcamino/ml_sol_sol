{
 "cells": [
  {
   "cell_type": "markdown",
   "id": "9301e228",
   "metadata": {},
   "source": [
    "# Pactice notebook"
   ]
  },
  {
   "cell_type": "markdown",
   "id": "92cc8948",
   "metadata": {},
   "source": [
    "Index\n",
    "\n",
    "[CaMgO dataset](#camgo)\n"
   ]
  },
  {
   "cell_type": "code",
   "execution_count": 23,
   "id": "6b402e43",
   "metadata": {},
   "outputs": [],
   "source": [
    "import os\n",
    "import copy\n",
    "import json\n",
    "import itertools\n",
    "import shutil as sh\n",
    "from pathlib import Path\n",
    "import numpy as np\n",
    "import pandas as pd\n",
    "import time\n",
    "from datetime import datetime\n",
    "\n",
    "from CRYSTALpytools.crystal_io import Crystal_output, Crystal_input, Crystal_density, Crystal_gui\n",
    "from CRYSTALpytools.convert import cry_gui2pmg, cry_out2pmg\n",
    "from CRYSTALpytools.utils import view_pmg\n",
    "\n",
    "from pymatgen.io.ase import AseAtomsAdaptor\n",
    "from pymatgen.io.cif import CifWriter\n",
    "from pymatgen.symmetry.analyzer import SpacegroupAnalyzer, PointGroupAnalyzer\n",
    "\n",
    "from ase.visualize import view\n",
    "\n",
    "from dscribe.descriptors import CoulombMatrix\n",
    "from dscribe.descriptors import SOAP\n",
    "from dscribe.descriptors import MBTR\n",
    "\n",
    "from sklearn.neighbors import NearestNeighbors, KNeighborsRegressor\n",
    "from sklearn.metrics import mean_squared_error \n",
    "from sklearn.cluster import KMeans\n",
    "\n",
    "import matplotlib.pyplot as plt\n",
    "plt.rcParams[\"figure.figsize\"] = (15,15)"
   ]
  },
  {
   "cell_type": "markdown",
   "id": "1a552f93",
   "metadata": {},
   "source": [
    "# <a id='camgo'>CaMgO dataset</a>"
   ]
  },
  {
   "cell_type": "markdown",
   "id": "70bad4aa",
   "metadata": {},
   "source": [
    "### Structures\n",
    "\n",
    "- structures is a list of all the structures as pymatgen objects"
   ]
  },
  {
   "cell_type": "code",
   "execution_count": 18,
   "id": "8dea02c2",
   "metadata": {},
   "outputs": [],
   "source": [
    "new_atom = 'Mg'\n",
    "\n",
    "#cry_output = Crystal_output('data/classification/ml/cao_CONFCNT.out')\n",
    "cry_output = Crystal_output().read_cry_output('data/crystal/cao_confcount.out')\n",
    "\n",
    "cry_output.get_config_analysis()\n",
    "\n",
    "#original_structure = cry_gui2pmg('data/classification/ml/cao_CONFCNT.gui')\n",
    "original_structure_gui =  Crystal_gui().read_cry_gui('data/crystal/cao_confcount.gui')\n",
    "original_structure = cry_gui2pmg(original_structure_gui)\n",
    "\n",
    "structures_mco = []\n",
    "ca_atoms = []\n",
    "mg_atoms = []\n",
    "for j,substitutions in enumerate(cry_output.atom_type1):\n",
    "    new_structure = original_structure.copy()\n",
    "    for i in substitutions:\n",
    "        new_structure.replace(i-1,new_atom)\n",
    "    structures_mco.append(new_structure)\n",
    "    ca_atoms.append((np.array(cry_output.atom_type1[j])-1).tolist())\n",
    "    mg_atoms.append((np.array(cry_output.atom_type2[j])-1).tolist())\n",
    "\n",
    "structures = copy.deepcopy(structures_mco)"
   ]
  },
  {
   "cell_type": "markdown",
   "id": "af1b6eb1",
   "metadata": {},
   "source": [
    "### Single point energies & band gap\n",
    "\n",
    "- energies_sp is a list of single point energies (non optimised geometry)\n",
    "- gap_sp is a list of band gap values for the non optimised geometry"
   ]
  },
  {
   "cell_type": "code",
   "execution_count": 19,
   "id": "8ebd1bfe",
   "metadata": {},
   "outputs": [],
   "source": [
    "energies_sp = []\n",
    "gap_sp = []\n",
    "#structuress = []\n",
    "for i in range(len(structures)):\n",
    "    crystal_output = Crystal_output().read_cry_output('./data/crystal/sp/CaMgO_sp_%s.out'%str(i))\n",
    "    if crystal_output.get_final_energy() != None:\n",
    "        energies_sp.append(crystal_output.get_final_energy())\n",
    "        gap_sp.append(crystal_output.get_band_gap())\n",
    "        #structuress.append(i)"
   ]
  },
  {
   "cell_type": "markdown",
   "id": "47b44c7e",
   "metadata": {},
   "source": [
    "## Descriptors"
   ]
  },
  {
   "cell_type": "code",
   "execution_count": 20,
   "id": "980cd998",
   "metadata": {},
   "outputs": [],
   "source": [
    "#descriptors: setting up\n",
    "atomic_numbers = [1, 8]\n",
    "rcut = 6.0\n",
    "nmax = 8\n",
    "lmax = 6\n",
    "\n",
    "# Setting up the CM descriptor\n",
    "cm = CoulombMatrix(\n",
    "    n_atoms_max=6,\n",
    ")\n",
    "\n",
    "#setting up the SOAP descriptor\n",
    "soap = SOAP(\n",
    "    species = [\"Ca\", \"Mg\", \"O\"],\n",
    "    periodic= False,\n",
    "    r_cut=rcut,\n",
    "    n_max=nmax,\n",
    "    l_max=lmax\n",
    ")\n",
    "\n",
    "#setting up the MBTR descriptor\n",
    "mbtr = MBTR(\n",
    "    species=[\"Ca\", \"O\", \"Mg\"],\n",
    "    k1={\n",
    "        \"geometry\": {\"function\": \"atomic_number\"},\n",
    "        \"grid\": {\"min\": 0, \"max\": 8, \"n\": 100, \"sigma\": 0.1},\n",
    "    },\n",
    "    k2={\n",
    "        \"geometry\": {\"function\": \"inverse_distance\"},\n",
    "        \"grid\": {\"min\": 0, \"max\": 1, \"n\": 100, \"sigma\": 0.1},\n",
    "        \"weighting\": {\"function\": \"exp\", \"scale\": 0.5, \"threshold\": 1e-3},\n",
    "    },\n",
    "    k3={\n",
    "        \"geometry\": {\"function\": \"cosine\"},\n",
    "        \"grid\": {\"min\": -1, \"max\": 1, \"n\": 100, \"sigma\": 0.1},\n",
    "        \"weighting\": {\"function\": \"exp\", \"scale\": 0.5, \"threshold\": 1e-3},\n",
    "    },\n",
    "    periodic=False,\n",
    "    normalization=\"l2_each\",\n",
    ")"
   ]
  },
  {
   "cell_type": "code",
   "execution_count": 21,
   "id": "ce316aca",
   "metadata": {},
   "outputs": [],
   "source": [
    "#changing it back to the non-ASE structure:\n",
    "NotAse_struct = []\n",
    "for i in range(len(structures)):\n",
    "    x = AseAtomsAdaptor().get_atoms(structures[i])\n",
    "    NotAse_struct.append(x)"
   ]
  },
  {
   "cell_type": "code",
   "execution_count": 24,
   "id": "26d5148d",
   "metadata": {},
   "outputs": [
    {
     "name": "stdout",
     "output_type": "stream",
     "text": [
      "matrices read: 200 , time: 0:00:00.050199\n",
      "matrices read: 400 , time: 0:00:00.081432\n",
      "matrices read: 600 , time: 0:00:00.109489\n",
      "matrices read: 800 , time: 0:00:00.136968\n",
      "matrices read: 1000 , time: 0:00:00.167572\n",
      "matrices read: 1200 , time: 0:00:00.195467\n",
      "matrices read: 1400 , time: 0:00:00.222756\n",
      "matrices read: 1600 , time: 0:00:00.250474\n",
      "matrices read: 1800 , time: 0:00:00.279025\n",
      "matrices read: 2000 , time: 0:00:00.310541\n",
      "matrices read: 2200 , time: 0:00:00.339295\n",
      "matrices read: 2400 , time: 0:00:00.377436\n",
      "matrices read: 2600 , time: 0:00:00.405539\n",
      "matrices read: 2800 , time: 0:00:00.433332\n",
      "matrices read: 3000 , time: 0:00:00.461434\n",
      "matrices read: 3200 , time: 0:00:00.489988\n",
      "matrices read: 3400 , time: 0:00:00.518328\n",
      "matrices read: 3600 , time: 0:00:00.546419\n",
      "matrices read: 3800 , time: 0:00:00.581447\n",
      "matrices read: 4000 , time: 0:00:00.609910\n",
      "Number of matrices read:  4023\n",
      "--- 0:00:00.613200 time taken ---\n"
     ]
    }
   ],
   "source": [
    "#CM descriptor with Dscribe\n",
    "cm_dscribe_list = []\n",
    "cm_ds = CoulombMatrix(n_atoms_max=56,permutation=\"eigenspectrum\")\n",
    "start = datetime.now()\n",
    "for i in range(len(NotAse_struct)):\n",
    "    dscribe_matrix = cm_ds.create([NotAse_struct[i]])\n",
    "    dscribe_matrix = np.real(dscribe_matrix)\n",
    "    cm_dscribe_list.append(dscribe_matrix)\n",
    "    now = datetime.now()\n",
    "    if int(len(cm_dscribe_list))%200 == 0: \n",
    "        print(\"matrices read:\", len(cm_dscribe_list),\", time:\", (now - start))\n",
    "    \n",
    "print('Number of matrices read: ', len(cm_dscribe_list))\n",
    "print(\"--- %s time taken ---\" % (datetime.now()- start))"
   ]
  },
  {
   "cell_type": "code",
   "execution_count": 26,
   "id": "11ac0d41",
   "metadata": {},
   "outputs": [
    {
     "name": "stdout",
     "output_type": "stream",
     "text": [
      "matrices read: 200 , time: 0:00:18.980661\n",
      "matrices read: 400 , time: 0:00:38.250775\n",
      "matrices read: 600 , time: 0:00:56.780742\n",
      "matrices read: 800 , time: 0:01:14.876733\n",
      "matrices read: 1000 , time: 0:01:32.994759\n",
      "matrices read: 1200 , time: 0:01:51.016947\n",
      "matrices read: 1400 , time: 0:02:09.048188\n",
      "matrices read: 1600 , time: 0:02:27.076852\n",
      "matrices read: 1800 , time: 0:02:45.187393\n",
      "matrices read: 2000 , time: 0:03:03.191558\n",
      "matrices read: 2200 , time: 0:03:21.180393\n",
      "matrices read: 2400 , time: 0:03:39.196877\n",
      "matrices read: 2600 , time: 0:03:57.173002\n",
      "matrices read: 2800 , time: 0:04:15.193776\n",
      "matrices read: 3000 , time: 0:04:33.173697\n",
      "matrices read: 3200 , time: 0:04:51.160521\n",
      "matrices read: 3400 , time: 0:05:09.139729\n",
      "matrices read: 3600 , time: 0:05:27.145687\n",
      "matrices read: 3800 , time: 0:06:19.340803\n",
      "matrices read: 4000 , time: 0:07:23.543777\n",
      "Number of matrices read:  4023\n",
      "--- 0:07:25.750529 time taken ---\n"
     ]
    }
   ],
   "source": [
    "#CM descriptors with matminer\n",
    "cm_matminer_list=[]\n",
    "cm_mm = sf.CoulombMatrix(flatten=True)\n",
    "start = datetime.now()\n",
    "for i in range(len(structures)):\n",
    "    matminer_matrix = cm_mm.fit([structures[i]])\n",
    "    featurized_structure = matminer_matrix.featurize(structures[i])\n",
    "    cm_matminer_list.append(featurized_structure)\n",
    "    now = datetime.now()\n",
    "    if int(len(cm_matminer_list))%200 == 0: \n",
    "        print(\"matrices read:\", len(cm_matminer_list),\", time:\", (now - start))\n",
    "    \n",
    "print('Number of matrices read: ', len(cm_matminer_list))\n",
    "print(\"--- %s time taken ---\" % ((datetime.now() - start)))"
   ]
  },
  {
   "cell_type": "code",
   "execution_count": 27,
   "id": "b95c1e8c",
   "metadata": {},
   "outputs": [
    {
     "name": "stdout",
     "output_type": "stream",
     "text": [
      "matrices read: 200 , time: 0:00:00.754888\n",
      "matrices read: 400 , time: 0:00:01.757691\n",
      "matrices read: 600 , time: 0:00:02.486868\n",
      "matrices read: 800 , time: 0:00:03.348624\n",
      "matrices read: 1000 , time: 0:00:04.293102\n",
      "matrices read: 1200 , time: 0:00:05.422214\n",
      "matrices read: 1400 , time: 0:00:06.117106\n",
      "matrices read: 1600 , time: 0:00:06.648000\n",
      "matrices read: 1800 , time: 0:00:07.164531\n",
      "matrices read: 2000 , time: 0:00:07.689149\n",
      "matrices read: 2200 , time: 0:00:08.203683\n",
      "matrices read: 2400 , time: 0:00:08.760536\n",
      "matrices read: 2600 , time: 0:00:09.339357\n",
      "matrices read: 2800 , time: 0:00:09.948847\n",
      "matrices read: 3000 , time: 0:00:10.490252\n",
      "matrices read: 3200 , time: 0:00:11.095575\n",
      "matrices read: 3400 , time: 0:00:11.969868\n",
      "matrices read: 3600 , time: 0:00:13.464492\n",
      "matrices read: 3800 , time: 0:00:14.340422\n",
      "matrices read: 4000 , time: 0:00:15.034460\n",
      "Number of matrices read:  4023\n",
      "--- 0:00:15.117159 time taken ---\n"
     ]
    }
   ],
   "source": [
    "#SOAP Descriptor\n",
    "soap_dscribe_list = []\n",
    "start = datetime.now()\n",
    "for i in range(len(NotAse_struct)):\n",
    "    soap_matrix = soap.create([NotAse_struct[i]])\n",
    "    soap_matrix = np.real(soap_matrix)\n",
    "    soap_dscribe_list.append(soap_matrix)\n",
    "    now = datetime.now()\n",
    "    if int(len(soap_dscribe_list))%200 == 0: \n",
    "        print(\"matrices read:\", len(soap_dscribe_list),\", time:\", (now - start))\n",
    "    \n",
    "print('Number of matrices read: ', len(soap_dscribe_list))\n",
    "print(\"--- %s time taken ---\" % ((datetime.now() - start)))"
   ]
  },
  {
   "cell_type": "code",
   "execution_count": null,
   "id": "c9f08953",
   "metadata": {},
   "outputs": [
    {
     "name": "stdout",
     "output_type": "stream",
     "text": [
      "matrices read: 200 , time: 0:00:16.962957\n",
      "matrices read: 400 , time: 0:00:32.206095\n",
      "matrices read: 600 , time: 0:00:47.616529\n",
      "matrices read: 800 , time: 0:01:02.940795\n",
      "matrices read: 1000 , time: 0:01:18.494297\n",
      "matrices read: 1200 , time: 0:01:34.577250\n",
      "matrices read: 1400 , time: 0:01:49.982984\n",
      "matrices read: 1600 , time: 0:02:05.156014\n",
      "matrices read: 1800 , time: 0:02:20.340043\n",
      "matrices read: 2000 , time: 0:02:35.625311\n",
      "matrices read: 2200 , time: 0:02:50.776213\n",
      "matrices read: 2400 , time: 0:03:05.897166\n",
      "matrices read: 2600 , time: 0:03:20.939322\n",
      "matrices read: 2800 , time: 0:03:36.021859\n",
      "matrices read: 3000 , time: 0:03:51.075341\n",
      "matrices read: 3200 , time: 0:04:06.129055\n",
      "matrices read: 3400 , time: 0:04:21.259476\n",
      "matrices read: 3600 , time: 0:04:36.353780\n",
      "matrices read: 3800 , time: 0:04:51.398104\n"
     ]
    }
   ],
   "source": [
    "#MBTR descriptor\n",
    "mbtr_dscribe_list = []\n",
    "start = datetime.now()\n",
    "for i in range(len(NotAse_struct)):\n",
    "    mbtr_matrix = mbtr.create([NotAse_struct[i]])\n",
    "    mbtr_matrix = np.real(soap_matrix)\n",
    "    mbtr_dscribe_list.append(soap_matrix)\n",
    "    now = datetime.now()\n",
    "    if int(len(mbtr_dscribe_list))%200 == 0: \n",
    "        print(\"matrices read:\", len(mbtr_dscribe_list),\", time:\", (now - start))\n",
    "print('Number of matrices read: ', len(mbtr_dscribe_list))\n",
    "print(\"--- %s time taken ---\" % ((datetime.now() - start)))"
   ]
  },
  {
   "cell_type": "code",
   "execution_count": null,
   "id": "afbdbee6",
   "metadata": {},
   "outputs": [],
   "source": []
  }
 ],
 "metadata": {
  "kernelspec": {
   "display_name": "Python 3 (ipykernel)",
   "language": "python",
   "name": "python3"
  },
  "language_info": {
   "codemirror_mode": {
    "name": "ipython",
    "version": 3
   },
   "file_extension": ".py",
   "mimetype": "text/x-python",
   "name": "python",
   "nbconvert_exporter": "python",
   "pygments_lexer": "ipython3",
   "version": "3.9.16"
  }
 },
 "nbformat": 4,
 "nbformat_minor": 5
}
