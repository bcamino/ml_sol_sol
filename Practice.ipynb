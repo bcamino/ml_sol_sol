{
 "cells": [
  {
   "cell_type": "markdown",
   "id": "9301e228",
   "metadata": {},
   "source": [
    "# Pactice notebook"
   ]
  },
  {
   "cell_type": "markdown",
   "id": "92cc8948",
   "metadata": {},
   "source": [
    "Index\n",
    "\n",
    "[CaMgO dataset](#camgo)\n"
   ]
  },
  {
   "cell_type": "code",
   "execution_count": 11,
   "id": "6b402e43",
   "metadata": {},
   "outputs": [],
   "source": [
    "import os\n",
    "import copy\n",
    "import json\n",
    "import itertools\n",
    "import shutil as sh\n",
    "from pathlib import Path\n",
    "import numpy as np\n",
    "import pandas as pd\n",
    "\n",
    "from CRYSTALpytools.crystal_io import Crystal_output, Crystal_input, Crystal_density, Crystal_gui\n",
    "from CRYSTALpytools.convert import cry_gui2pmg, cry_out2pmg\n",
    "from CRYSTALpytools.utils import view_pmg\n",
    "\n",
    "from pymatgen.io.ase import AseAtomsAdaptor\n",
    "from pymatgen.io.cif import CifWriter\n",
    "from pymatgen.symmetry.analyzer import SpacegroupAnalyzer, PointGroupAnalyzer\n",
    "\n",
    "from ase.visualize import view\n",
    "\n",
    "#from dscribe.descriptors import CoulombMatrix\n",
    "\n",
    "from sklearn.neighbors import NearestNeighbors, KNeighborsRegressor\n",
    "from sklearn.metrics import mean_squared_error \n",
    "from sklearn.cluster import KMeans\n",
    "\n",
    "import matplotlib.pyplot as plt\n",
    "plt.rcParams[\"figure.figsize\"] = (15,15)"
   ]
  },
  {
   "cell_type": "markdown",
   "id": "1a552f93",
   "metadata": {},
   "source": [
    "# <a id='camgo'>CaMgO dataset</a>"
   ]
  },
  {
   "cell_type": "markdown",
   "id": "70bad4aa",
   "metadata": {},
   "source": [
    "### Structures\n",
    "\n",
    "- structures is a list of all the structures as pymatgen objects"
   ]
  },
  {
   "cell_type": "code",
   "execution_count": 12,
   "id": "8dea02c2",
   "metadata": {},
   "outputs": [],
   "source": [
    "new_atom = 'Mg'\n",
    "\n",
    "#cry_output = Crystal_output('data/classification/ml/cao_CONFCNT.out')\n",
    "cry_output = Crystal_output().read_cry_output('data/crystal/cao_confcount.out')\n",
    "\n",
    "cry_output.get_config_analysis()\n",
    "\n",
    "#original_structure = cry_gui2pmg('data/classification/ml/cao_CONFCNT.gui')\n",
    "original_structure_gui =  Crystal_gui().read_cry_gui('data/crystal/cao_confcount.gui')\n",
    "original_structure = cry_gui2pmg(original_structure_gui)\n",
    "\n",
    "structures_mco = []\n",
    "ca_atoms = []\n",
    "mg_atoms = []\n",
    "for j,substitutions in enumerate(cry_output.atom_type1):\n",
    "    new_structure = original_structure.copy()\n",
    "    for i in substitutions:\n",
    "        new_structure.replace(i-1,new_atom)\n",
    "    structures_mco.append(new_structure)\n",
    "    ca_atoms.append((np.array(cry_output.atom_type1[j])-1).tolist())\n",
    "    mg_atoms.append((np.array(cry_output.atom_type2[j])-1).tolist())\n",
    "\n",
    "structures = copy.deepcopy(structures_mco)"
   ]
  },
  {
   "cell_type": "code",
   "execution_count": 15,
   "id": "141a7e2a",
   "metadata": {},
   "outputs": [
    {
     "data": {
      "text/plain": [
       "(20,\n",
       " 20,\n",
       " 20,\n",
       " 20,\n",
       " 20,\n",
       " 20,\n",
       " 20,\n",
       " 20,\n",
       " 20,\n",
       " 20,\n",
       " 20,\n",
       " 20,\n",
       " 20,\n",
       " 20,\n",
       " 20,\n",
       " 20,\n",
       " 20,\n",
       " 20,\n",
       " 20,\n",
       " 20,\n",
       " 20,\n",
       " 20,\n",
       " 20,\n",
       " 20,\n",
       " 20,\n",
       " 20,\n",
       " 20,\n",
       " 8,\n",
       " 8,\n",
       " 8,\n",
       " 8,\n",
       " 8,\n",
       " 8,\n",
       " 8,\n",
       " 8,\n",
       " 8,\n",
       " 8,\n",
       " 8,\n",
       " 8,\n",
       " 8,\n",
       " 8,\n",
       " 8,\n",
       " 8,\n",
       " 8,\n",
       " 8,\n",
       " 8,\n",
       " 8,\n",
       " 8,\n",
       " 8,\n",
       " 8,\n",
       " 8,\n",
       " 8,\n",
       " 8,\n",
       " 8)"
      ]
     },
     "execution_count": 15,
     "metadata": {},
     "output_type": "execute_result"
    }
   ],
   "source": [
    "original_structure.atomic_numbers"
   ]
  },
  {
   "cell_type": "markdown",
   "id": "af1b6eb1",
   "metadata": {},
   "source": [
    "### Single point energies & band gap\n",
    "\n",
    "- energies_sp is a list of single point energies (non optimised geometry)\n",
    "- gap_sp is a list of band gap values for the non optimised geometry"
   ]
  },
  {
   "cell_type": "code",
   "execution_count": 7,
   "id": "8ebd1bfe",
   "metadata": {},
   "outputs": [],
   "source": [
    "energies_sp = []\n",
    "gap_sp = []\n",
    "#structuress = []\n",
    "for i in range(len(structures)):\n",
    "    crystal_output = Crystal_output().read_cry_output('./data/crystal/sp/CaMgO_sp_%s.out'%str(i))\n",
    "    if crystal_output.get_final_energy() != None:\n",
    "        energies_sp.append(crystal_output.get_final_energy())\n",
    "        gap_sp.append(crystal_output.get_band_gap())\n",
    "        #structuress.append(i)"
   ]
  },
  {
   "cell_type": "code",
   "execution_count": 5,
   "id": "76482792",
   "metadata": {},
   "outputs": [
    {
     "ename": "ImportError",
     "evalue": "cannot import name 'molecules' from 'ase.build' (/opt/anaconda3/envs/MLenv/lib/python3.9/site-packages/ase/build/__init__.py)",
     "output_type": "error",
     "traceback": [
      "\u001b[0;31m---------------------------------------------------------------------------\u001b[0m",
      "\u001b[0;31mImportError\u001b[0m                               Traceback (most recent call last)",
      "Cell \u001b[0;32mIn[5], line 11\u001b[0m\n\u001b[1;32m      9\u001b[0m \u001b[38;5;28;01mfrom\u001b[39;00m \u001b[38;5;21;01mdscribe\u001b[39;00m\u001b[38;5;21;01m.\u001b[39;00m\u001b[38;5;21;01mdescriptors\u001b[39;00m \u001b[38;5;28;01mimport\u001b[39;00m MBTR\n\u001b[1;32m     10\u001b[0m \u001b[38;5;28;01mfrom\u001b[39;00m \u001b[38;5;21;01mase\u001b[39;00m\u001b[38;5;21;01m.\u001b[39;00m\u001b[38;5;21;01mio\u001b[39;00m \u001b[38;5;28;01mimport\u001b[39;00m read\n\u001b[0;32m---> 11\u001b[0m \u001b[38;5;28;01mfrom\u001b[39;00m \u001b[38;5;21;01mase\u001b[39;00m\u001b[38;5;21;01m.\u001b[39;00m\u001b[38;5;21;01mbuild\u001b[39;00m \u001b[38;5;28;01mimport\u001b[39;00m molecules\n\u001b[1;32m     12\u001b[0m \u001b[38;5;28;01mfrom\u001b[39;00m \u001b[38;5;21;01mase\u001b[39;00m \u001b[38;5;28;01mimport\u001b[39;00m Atoms\n\u001b[1;32m     13\u001b[0m \u001b[38;5;28;01mfrom\u001b[39;00m \u001b[38;5;21;01mnumpy\u001b[39;00m\u001b[38;5;21;01m.\u001b[39;00m\u001b[38;5;21;01mlinalg\u001b[39;00m \u001b[38;5;28;01mimport\u001b[39;00m eig\n",
      "\u001b[0;31mImportError\u001b[0m: cannot import name 'molecules' from 'ase.build' (/opt/anaconda3/envs/MLenv/lib/python3.9/site-packages/ase/build/__init__.py)"
     ]
    }
   ],
   "source": [
    "#import modules\n",
    "import pandas as pd\n",
    "import numpy as np\n",
    "import matplotlib.pyplot as plt\n",
    "from pymatgen.io.ase import AseAtomsAdaptor as AAA\n",
    "from matminer.featurizers import structure as sf\n",
    "from dscribe.descriptors import CoulombMatrix as CM\n",
    "from dscribe.descriptors import SOAP \n",
    "from dscribe.descriptors import MBTR\n",
    "from ase.io import read\n",
    "from ase.build import Molecule\n",
    "from ase import Atoms\n",
    "from numpy.linalg import eig\n",
    "import time\n",
    "import os"
   ]
  },
  {
   "cell_type": "code",
   "execution_count": null,
   "id": "0f94aa14",
   "metadata": {},
   "outputs": [],
   "source": []
  }
 ],
 "metadata": {
  "kernelspec": {
   "display_name": "Python 3 (ipykernel)",
   "language": "python",
   "name": "python3"
  },
  "language_info": {
   "codemirror_mode": {
    "name": "ipython",
    "version": 3
   },
   "file_extension": ".py",
   "mimetype": "text/x-python",
   "name": "python",
   "nbconvert_exporter": "python",
   "pygments_lexer": "ipython3",
   "version": "3.9.12"
  }
 },
 "nbformat": 4,
 "nbformat_minor": 5
}
