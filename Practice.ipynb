{
 "cells": [
  {
   "cell_type": "markdown",
   "id": "9301e228",
   "metadata": {},
   "source": [
    "# Pactice notebook"
   ]
  },
  {
   "cell_type": "markdown",
   "id": "92cc8948",
   "metadata": {},
   "source": [
    "Index\n",
    "\n",
    "[CaMgO dataset](#camgo)\n"
   ]
  },
  {
   "cell_type": "code",
   "execution_count": 12,
   "id": "6b402e43",
   "metadata": {},
   "outputs": [],
   "source": [
    "import os\n",
    "import copy\n",
    "import json\n",
    "import itertools\n",
    "import shutil as sh\n",
    "from pathlib import Path\n",
    "import numpy as np\n",
    "import pandas as pd\n",
    "import time\n",
    "\n",
    "from CRYSTALpytools.crystal_io import Crystal_output, Crystal_input, Crystal_density, Crystal_gui\n",
    "from CRYSTALpytools.convert import cry_gui2pmg, cry_out2pmg\n",
    "from CRYSTALpytools.utils import view_pmg\n",
    "\n",
    "from pymatgen.io.ase import AseAtomsAdaptor\n",
    "from pymatgen.io.cif import CifWriter\n",
    "from pymatgen.symmetry.analyzer import SpacegroupAnalyzer, PointGroupAnalyzer\n",
    "\n",
    "from ase.visualize import view\n",
    "\n",
    "from dscribe.descriptors import CoulombMatrix\n",
    "from dscribe.descriptors import SOAP\n",
    "from dscribe.descriptors import MBTR\n",
    "\n",
    "from sklearn.neighbors import NearestNeighbors, KNeighborsRegressor\n",
    "from sklearn.metrics import mean_squared_error \n",
    "from sklearn.cluster import KMeans\n",
    "\n",
    "import matplotlib.pyplot as plt\n",
    "plt.rcParams[\"figure.figsize\"] = (15,15)"
   ]
  },
  {
   "cell_type": "markdown",
   "id": "1a552f93",
   "metadata": {},
   "source": [
    "# <a id='camgo'>CaMgO dataset</a>"
   ]
  },
  {
   "cell_type": "markdown",
   "id": "70bad4aa",
   "metadata": {},
   "source": [
    "### Structures\n",
    "\n",
    "- structures is a list of all the structures as pymatgen objects"
   ]
  },
  {
   "cell_type": "code",
   "execution_count": 2,
   "id": "8dea02c2",
   "metadata": {},
   "outputs": [],
   "source": [
    "new_atom = 'Mg'\n",
    "\n",
    "#cry_output = Crystal_output('data/classification/ml/cao_CONFCNT.out')\n",
    "cry_output = Crystal_output().read_cry_output('data/crystal/cao_confcount.out')\n",
    "\n",
    "cry_output.get_config_analysis()\n",
    "\n",
    "#original_structure = cry_gui2pmg('data/classification/ml/cao_CONFCNT.gui')\n",
    "original_structure_gui =  Crystal_gui().read_cry_gui('data/crystal/cao_confcount.gui')\n",
    "original_structure = cry_gui2pmg(original_structure_gui)\n",
    "\n",
    "structures_mco = []\n",
    "ca_atoms = []\n",
    "mg_atoms = []\n",
    "for j,substitutions in enumerate(cry_output.atom_type1):\n",
    "    new_structure = original_structure.copy()\n",
    "    for i in substitutions:\n",
    "        new_structure.replace(i-1,new_atom)\n",
    "    structures_mco.append(new_structure)\n",
    "    ca_atoms.append((np.array(cry_output.atom_type1[j])-1).tolist())\n",
    "    mg_atoms.append((np.array(cry_output.atom_type2[j])-1).tolist())\n",
    "\n",
    "structures = copy.deepcopy(structures_mco)"
   ]
  },
  {
   "cell_type": "markdown",
   "id": "af1b6eb1",
   "metadata": {},
   "source": [
    "### Single point energies & band gap\n",
    "\n",
    "- energies_sp is a list of single point energies (non optimised geometry)\n",
    "- gap_sp is a list of band gap values for the non optimised geometry"
   ]
  },
  {
   "cell_type": "code",
   "execution_count": 3,
   "id": "8ebd1bfe",
   "metadata": {},
   "outputs": [],
   "source": [
    "energies_sp = []\n",
    "gap_sp = []\n",
    "#structuress = []\n",
    "for i in range(len(structures)):\n",
    "    crystal_output = Crystal_output().read_cry_output('./data/crystal/sp/CaMgO_sp_%s.out'%str(i))\n",
    "    if crystal_output.get_final_energy() != None:\n",
    "        energies_sp.append(crystal_output.get_final_energy())\n",
    "        gap_sp.append(crystal_output.get_band_gap())\n",
    "        #structuress.append(i)"
   ]
  },
  {
   "cell_type": "markdown",
   "id": "130b1d57",
   "metadata": {},
   "source": [
    "## Descriptors"
   ]
  },
  {
   "cell_type": "code",
   "execution_count": null,
   "id": "566eab7b",
   "metadata": {},
   "outputs": [],
   "source": [
    "#descriptors: setting up\n",
    "atomic_numbers = [1, 8]\n",
    "rcut = 6.0\n",
    "nmax = 8\n",
    "lmax = 6\n",
    "\n",
    "# Setting up the CM descriptor\n",
    "cm = CoulombMatrix(\n",
    "    n_atoms_max=6,\n",
    ")\n",
    "\n",
    "#setting up the SOAP descriptor\n",
    "soap = SOAP(\n",
    "    species = [\"Ca\", \"Mg\", \"O\"],\n",
    "    periodic= False,\n",
    "    r_cut=rcut,\n",
    "    n_max=nmax,\n",
    "    l_max=lmax\n",
    ")\n",
    "\n",
    "#setting up the MBTR descriptor\n",
    "mbtr = MBTR(\n",
    "    species=[\"Ca\", \"O\", \"Mg\"],\n",
    "    k1={\n",
    "        \"geometry\": {\"function\": \"atomic_number\"},\n",
    "        \"grid\": {\"min\": 0, \"max\": 8, \"n\": 100, \"sigma\": 0.1},\n",
    "    },\n",
    "    k2={\n",
    "        \"geometry\": {\"function\": \"inverse_distance\"},\n",
    "        \"grid\": {\"min\": 0, \"max\": 1, \"n\": 100, \"sigma\": 0.1},\n",
    "        \"weighting\": {\"function\": \"exp\", \"scale\": 0.5, \"threshold\": 1e-3},\n",
    "    },\n",
    "    k3={\n",
    "        \"geometry\": {\"function\": \"cosine\"},\n",
    "        \"grid\": {\"min\": -1, \"max\": 1, \"n\": 100, \"sigma\": 0.1},\n",
    "        \"weighting\": {\"function\": \"exp\", \"scale\": 0.5, \"threshold\": 1e-3},\n",
    "    },\n",
    "    periodic=False,\n",
    "    normalization=\"l2_each\",\n",
    ")"
   ]
  },
  {
   "cell_type": "code",
   "execution_count": 5,
   "id": "04b97c79",
   "metadata": {},
   "outputs": [],
   "source": [
    "#changing it back to the non-ASE structure:\n",
    "NotAse_struct = []\n",
    "for i in range(len(structures)):\n",
    "    x = AseAtomsAdaptor().get_atoms(structures[i])\n",
    "    NotAse_struct.append(x)"
   ]
  },
  {
   "cell_type": "code",
   "execution_count": 8,
   "id": "0a7af43a",
   "metadata": {},
   "outputs": [
    {
     "name": "stdout",
     "output_type": "stream",
     "text": [
      "Number of matrices read:  4023\n",
      "--- 0.009516549110412598 minutes ---\n"
     ]
    }
   ],
   "source": [
    "#CM descriptor with Dscribe\n",
    "cm_dscribe_list = []\n",
    "cm_ds = CoulombMatrix(n_atoms_max=56,permutation=\"eigenspectrum\")\n",
    "start = time.time()\n",
    "for i in range(len(NotAse_struct)):\n",
    "    dscribe_matrix = cm_ds.create([NotAse_struct[i]])\n",
    "    dscribe_matrix = np.real(dscribe_matrix)\n",
    "    cm_dscribe_list.append(dscribe_matrix)\n",
    "    \n",
    "print('Number of matrices read: ', len(cm_dscribe_list))\n",
    "print(\"--- %s minutes ---\" % ((time.time() - start)/60))"
   ]
  },
  {
   "cell_type": "code",
   "execution_count": 9,
   "id": "00388d6e",
   "metadata": {},
   "outputs": [
    {
     "name": "stderr",
     "output_type": "stream",
     "text": [
      "/opt/anaconda3/envs/MLenv/lib/python3.9/site-packages/matminer/featurizers/structure/matrix.py:100: ComplexWarning: Casting complex values to real discards the imaginary part\n",
      "  zeros[: len(eigs)] = eigs\n"
     ]
    },
    {
     "name": "stdout",
     "output_type": "stream",
     "text": [
      "Number of matrices read:  4023\n",
      "--- 6.185516965389252 minutes ---\n"
     ]
    }
   ],
   "source": [
    "#CM descriptors with matminer\n",
    "cm_matminer_list=[]\n",
    "cm_mm = sf.CoulombMatrix(flatten=True)\n",
    "start = time.time()\n",
    "for i in range(len(structures)):\n",
    "    matminer_matrix = cm_mm.fit([structures[i]])\n",
    "    featurized_structure = matminer_matrix.featurize(structures[i])\n",
    "    cm_matminer_list.append(featurized_structure)\n",
    "    \n",
    "print('Number of matrices read: ', len(cm_matminer_list))\n",
    "print(\"--- %s minutes ---\" % ((time.time() - start)/60))"
   ]
  },
  {
   "cell_type": "code",
   "execution_count": 14,
   "id": "ae57ae2a",
   "metadata": {},
   "outputs": [
    {
     "ename": "TypeError",
     "evalue": "'<' not supported between instances of 'NoneType' and 'int'",
     "output_type": "error",
     "traceback": [
      "\u001b[0;31m---------------------------------------------------------------------------\u001b[0m",
      "\u001b[0;31mTypeError\u001b[0m                                 Traceback (most recent call last)",
      "Cell \u001b[0;32mIn[14], line 3\u001b[0m\n\u001b[1;32m      1\u001b[0m \u001b[38;5;66;03m#SOAP Descriptor\u001b[39;00m\n\u001b[1;32m      2\u001b[0m \u001b[38;5;66;03m#setting up the SOAP descriptor\u001b[39;00m\n\u001b[0;32m----> 3\u001b[0m soap \u001b[38;5;241m=\u001b[39m \u001b[43mSOAP\u001b[49m\u001b[43m(\u001b[49m\n\u001b[1;32m      4\u001b[0m \u001b[43m    \u001b[49m\u001b[43mspecies\u001b[49m\u001b[43m \u001b[49m\u001b[38;5;241;43m=\u001b[39;49m\u001b[43m \u001b[49m\u001b[43m[\u001b[49m\u001b[38;5;124;43m\"\u001b[39;49m\u001b[38;5;124;43mCa\u001b[39;49m\u001b[38;5;124;43m\"\u001b[39;49m\u001b[43m,\u001b[49m\u001b[43m \u001b[49m\u001b[38;5;124;43m\"\u001b[39;49m\u001b[38;5;124;43mMg\u001b[39;49m\u001b[38;5;124;43m\"\u001b[39;49m\u001b[43m,\u001b[49m\u001b[43m \u001b[49m\u001b[38;5;124;43m\"\u001b[39;49m\u001b[38;5;124;43mO\u001b[39;49m\u001b[38;5;124;43m\"\u001b[39;49m\u001b[43m]\u001b[49m\u001b[43m,\u001b[49m\n\u001b[1;32m      5\u001b[0m \u001b[43m    \u001b[49m\u001b[43mperiodic\u001b[49m\u001b[38;5;241;43m=\u001b[39;49m\u001b[43m \u001b[49m\u001b[38;5;28;43;01mFalse\u001b[39;49;00m\u001b[43m,\u001b[49m\n\u001b[1;32m      6\u001b[0m \u001b[43m)\u001b[49m\n\u001b[1;32m      8\u001b[0m soap_dscribe_list \u001b[38;5;241m=\u001b[39m []\n\u001b[1;32m      9\u001b[0m start \u001b[38;5;241m=\u001b[39m time\u001b[38;5;241m.\u001b[39mtime()\n",
      "File \u001b[0;32m/opt/anaconda3/envs/MLenv/lib/python3.9/site-packages/dscribe/descriptors/soap.py:217\u001b[0m, in \u001b[0;36mSOAP.__init__\u001b[0;34m(self, r_cut, n_max, l_max, sigma, rbf, weighting, crossover, average, species, periodic, sparse, dtype, rcut, nmax, lmax)\u001b[0m\n\u001b[1;32m    212\u001b[0m \u001b[38;5;28;01mif\u001b[39;00m rbf \u001b[38;5;129;01mnot\u001b[39;00m \u001b[38;5;129;01min\u001b[39;00m supported_rbf:\n\u001b[1;32m    213\u001b[0m     \u001b[38;5;28;01mraise\u001b[39;00m \u001b[38;5;167;01mValueError\u001b[39;00m(\n\u001b[1;32m    214\u001b[0m         \u001b[38;5;124m\"\u001b[39m\u001b[38;5;124mInvalid radial basis function of type \u001b[39m\u001b[38;5;124m'\u001b[39m\u001b[38;5;132;01m{}\u001b[39;00m\u001b[38;5;124m'\u001b[39m\u001b[38;5;124m given. Please use \u001b[39m\u001b[38;5;124m\"\u001b[39m\n\u001b[1;32m    215\u001b[0m         \u001b[38;5;124m\"\u001b[39m\u001b[38;5;124mone of the following: \u001b[39m\u001b[38;5;132;01m{}\u001b[39;00m\u001b[38;5;124m\"\u001b[39m\u001b[38;5;241m.\u001b[39mformat(rbf, supported_rbf)\n\u001b[1;32m    216\u001b[0m     )\n\u001b[0;32m--> 217\u001b[0m \u001b[38;5;28;01mif\u001b[39;00m \u001b[43mn_max\u001b[49m\u001b[43m \u001b[49m\u001b[38;5;241;43m<\u001b[39;49m\u001b[43m \u001b[49m\u001b[38;5;241;43m1\u001b[39;49m:\n\u001b[1;32m    218\u001b[0m     \u001b[38;5;28;01mraise\u001b[39;00m \u001b[38;5;167;01mValueError\u001b[39;00m(\n\u001b[1;32m    219\u001b[0m         \u001b[38;5;124m\"\u001b[39m\u001b[38;5;124mMust have at least one radial basis function.\u001b[39m\u001b[38;5;124m\"\u001b[39m \u001b[38;5;124m\"\u001b[39m\u001b[38;5;124mn_max=\u001b[39m\u001b[38;5;132;01m{}\u001b[39;00m\u001b[38;5;124m\"\u001b[39m\u001b[38;5;241m.\u001b[39mformat(n_max)\n\u001b[1;32m    220\u001b[0m     )\n\u001b[1;32m    221\u001b[0m supported_average \u001b[38;5;241m=\u001b[39m \u001b[38;5;28mset\u001b[39m((\u001b[38;5;124m\"\u001b[39m\u001b[38;5;124moff\u001b[39m\u001b[38;5;124m\"\u001b[39m, \u001b[38;5;124m\"\u001b[39m\u001b[38;5;124minner\u001b[39m\u001b[38;5;124m\"\u001b[39m, \u001b[38;5;124m\"\u001b[39m\u001b[38;5;124mouter\u001b[39m\u001b[38;5;124m\"\u001b[39m))\n",
      "\u001b[0;31mTypeError\u001b[0m: '<' not supported between instances of 'NoneType' and 'int'"
     ]
    }
   ],
   "source": [
    "#SOAP Descriptor\n",
    "#setting up the SOAP descriptor\n",
    "soap_dscribe_list = []\n",
    "start = time.time()\n",
    "for i in range(len(NotAse_struct)):\n",
    "    soap_matrix = soap.create([NotAse_struct[i]])\n",
    "    soap_matrix = np.real(soap_matrix)\n",
    "    soap_dscribe_list.append(soap_matrix)\n",
    "    \n",
    "print('Number of matrices read: ', len(soap_dscribe_list))\n",
    "print(\"--- %s minutes ---\" % ((time.time() - start)/60))"
   ]
  },
  {
   "cell_type": "code",
   "execution_count": null,
   "id": "632229e5",
   "metadata": {},
   "outputs": [],
   "source": []
  }
 ],
 "metadata": {
  "kernelspec": {
   "display_name": "Python 3 (ipykernel)",
   "language": "python",
   "name": "python3"
  },
  "language_info": {
   "codemirror_mode": {
    "name": "ipython",
    "version": 3
   },
   "file_extension": ".py",
   "mimetype": "text/x-python",
   "name": "python",
   "nbconvert_exporter": "python",
   "pygments_lexer": "ipython3",
   "version": "3.9.16"
  }
 },
 "nbformat": 4,
 "nbformat_minor": 5
}
