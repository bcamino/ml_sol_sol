{
 "cells": [
  {
   "cell_type": "markdown",
   "id": "9301e228",
   "metadata": {},
   "source": [
    "# Pactice notebook"
   ]
  },
  {
   "cell_type": "markdown",
   "id": "92cc8948",
   "metadata": {},
   "source": [
    "In this notebook we practice\n",
    "\n",
    "Reproduce KB's results"
   ]
  },
  {
   "cell_type": "code",
   "execution_count": 5,
   "id": "76482792",
   "metadata": {},
   "outputs": [
    {
     "ename": "ImportError",
     "evalue": "cannot import name 'molecules' from 'ase.build' (/opt/anaconda3/envs/MLenv/lib/python3.9/site-packages/ase/build/__init__.py)",
     "output_type": "error",
     "traceback": [
      "\u001b[0;31m---------------------------------------------------------------------------\u001b[0m",
      "\u001b[0;31mImportError\u001b[0m                               Traceback (most recent call last)",
      "Cell \u001b[0;32mIn[5], line 11\u001b[0m\n\u001b[1;32m      9\u001b[0m \u001b[38;5;28;01mfrom\u001b[39;00m \u001b[38;5;21;01mdscribe\u001b[39;00m\u001b[38;5;21;01m.\u001b[39;00m\u001b[38;5;21;01mdescriptors\u001b[39;00m \u001b[38;5;28;01mimport\u001b[39;00m MBTR\n\u001b[1;32m     10\u001b[0m \u001b[38;5;28;01mfrom\u001b[39;00m \u001b[38;5;21;01mase\u001b[39;00m\u001b[38;5;21;01m.\u001b[39;00m\u001b[38;5;21;01mio\u001b[39;00m \u001b[38;5;28;01mimport\u001b[39;00m read\n\u001b[0;32m---> 11\u001b[0m \u001b[38;5;28;01mfrom\u001b[39;00m \u001b[38;5;21;01mase\u001b[39;00m\u001b[38;5;21;01m.\u001b[39;00m\u001b[38;5;21;01mbuild\u001b[39;00m \u001b[38;5;28;01mimport\u001b[39;00m molecules\n\u001b[1;32m     12\u001b[0m \u001b[38;5;28;01mfrom\u001b[39;00m \u001b[38;5;21;01mase\u001b[39;00m \u001b[38;5;28;01mimport\u001b[39;00m Atoms\n\u001b[1;32m     13\u001b[0m \u001b[38;5;28;01mfrom\u001b[39;00m \u001b[38;5;21;01mnumpy\u001b[39;00m\u001b[38;5;21;01m.\u001b[39;00m\u001b[38;5;21;01mlinalg\u001b[39;00m \u001b[38;5;28;01mimport\u001b[39;00m eig\n",
      "\u001b[0;31mImportError\u001b[0m: cannot import name 'molecules' from 'ase.build' (/opt/anaconda3/envs/MLenv/lib/python3.9/site-packages/ase/build/__init__.py)"
     ]
    }
   ],
   "source": [
    "#import modules\n",
    "import pandas as pd\n",
    "import numpy as np\n",
    "import matplotlib.pyplot as plt\n",
    "from pymatgen.io.ase import AseAtomsAdaptor as AAA\n",
    "from matminer.featurizers import structure as sf\n",
    "from dscribe.descriptors import CoulombMatrix as CM\n",
    "from dscribe.descriptors import SOAP \n",
    "from dscribe.descriptors import MBTR\n",
    "from ase.io import read\n",
    "from ase.build import molecules\n",
    "from ase import Atoms\n",
    "from numpy.linalg import eig\n",
    "import time\n",
    "import os"
   ]
  },
  {
   "cell_type": "code",
   "execution_count": null,
   "id": "0f94aa14",
   "metadata": {},
   "outputs": [],
   "source": []
  }
 ],
 "metadata": {
  "kernelspec": {
   "display_name": "Python 3 (ipykernel)",
   "language": "python",
   "name": "python3"
  },
  "language_info": {
   "codemirror_mode": {
    "name": "ipython",
    "version": 3
   },
   "file_extension": ".py",
   "mimetype": "text/x-python",
   "name": "python",
   "nbconvert_exporter": "python",
   "pygments_lexer": "ipython3",
   "version": "3.9.16"
  }
 },
 "nbformat": 4,
 "nbformat_minor": 5
}
