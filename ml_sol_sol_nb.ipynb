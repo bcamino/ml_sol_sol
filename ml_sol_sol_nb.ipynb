{
 "cells": [
  {
   "cell_type": "markdown",
   "id": "7babc0f3",
   "metadata": {},
   "source": [
    "# Machine learning for solid solutions (Li2TiS3)"
   ]
  },
  {
   "cell_type": "markdown",
   "id": "401c7464",
   "metadata": {},
   "source": [
    "This notebook is divided into these sections:\n",
    "- [LTS dataset](#lts)\n",
    "    - write CRYSTAL input files\n",
    "    - read CRYSTAL output files\n",
    "- [Descriptos](#descriptors)\n",
    "- [Machine learning](#ml)\n",
    "    - linear regression\n",
    "- [Protocol](#protocol)\n",
    "    - [simmetry analysis](#symmetry)"
   ]
  },
  {
   "cell_type": "code",
   "execution_count": 1,
   "id": "b38f9b85",
   "metadata": {},
   "outputs": [
    {
     "name": "stderr",
     "output_type": "stream",
     "text": [
      "<frozen importlib._bootstrap>:228: RuntimeWarning: scipy._lib.messagestream.MessageStream size changed, may indicate binary incompatibility. Expected 56 from C header, got 64 from PyObject\n"
     ]
    }
   ],
   "source": [
    "import os\n",
    "import copy\n",
    "import json\n",
    "import itertools\n",
    "import shutil as sh\n",
    "from pathlib import Path\n",
    "import numpy as np\n",
    "import pandas as pd\n",
    "from datetime import datetime\n",
    "\n",
    "from CRYSTALpytools.crystal_io import Crystal_output, Crystal_input, Crystal_density, Crystal_gui\n",
    "from CRYSTALpytools.convert import cry_gui2pmg, cry_out2pmg\n",
    "from CRYSTALpytools.utils import view_pmg\n",
    "\n",
    "from pymatgen.io.ase import AseAtomsAdaptor\n",
    "from pymatgen.io.cif import CifWriter\n",
    "from pymatgen.symmetry.analyzer import SpacegroupAnalyzer, PointGroupAnalyzer\n",
    "\n",
    "from ase.visualize import view\n",
    "\n",
    "#from dscribe.descriptors import CoulombMatrix\n",
    "\n",
    "from sklearn.neighbors import NearestNeighbors, KNeighborsRegressor\n",
    "from sklearn.metrics import mean_squared_error \n",
    "from sklearn.cluster import KMeans\n",
    "\n",
    "import matplotlib.pyplot as plt\n",
    "plt.rcParams[\"figure.figsize\"] = (15,15)"
   ]
  },
  {
   "cell_type": "markdown",
   "id": "f77a340f",
   "metadata": {},
   "source": [
    "# <a id='lts'>LTS dataset - pymatgen</a>"
   ]
  },
  {
   "cell_type": "code",
   "execution_count": null,
   "id": "982ed105",
   "metadata": {},
   "outputs": [],
   "source": []
  },
  {
   "cell_type": "code",
   "execution_count": 3,
   "id": "cd079fdd",
   "metadata": {},
   "outputs": [],
   "source": [
    "# New atom\n",
    "new_atom = 'Li'\n",
    "\n",
    "# Read the confcount output\n",
    "cry_output = Crystal_output().read_cry_output('data/crystal/lts/lts_confcount.out')\n",
    "cry_output.get_config_analysis()\n",
    "\n",
    "# Read the initial structure (before substitution)\n",
    "original_structure_gui =  Crystal_gui().read_cry_gui('data/crystal/lts/lts_confcount.gui')\n",
    "original_structure = cry_gui2pmg(original_structure_gui)\n",
    "\n",
    "structures_lts = []\n",
    "li_atoms = []\n",
    "ti_atoms = []\n",
    "for j,substitutions in enumerate(cry_output.atom_type2):\n",
    "    new_structure = original_structure.copy()\n",
    "    for i in substitutions:\n",
    "        new_structure.replace(i-1,new_atom)\n",
    "    structures_lts.append(new_structure)\n",
    "    ti_atoms.append((np.array(cry_output.atom_type1[j])-1).tolist())\n",
    "    li_atoms.append((np.array(cry_output.atom_type2[j])-1).tolist())\n",
    "\n",
    "structures = copy.deepcopy(structures_lts)"
   ]
  },
  {
   "cell_type": "markdown",
   "id": "5ccb121f",
   "metadata": {},
   "source": [
    "## Read the energy and band gap"
   ]
  },
  {
   "cell_type": "markdown",
   "id": "51ec6192",
   "metadata": {},
   "source": [
    "#### Single point"
   ]
  },
  {
   "cell_type": "code",
   "execution_count": 4,
   "id": "4bf42abc",
   "metadata": {},
   "outputs": [],
   "source": [
    "energies_sp = []\n",
    "gap_sp = []\n",
    "for i in range(len(structures)):\n",
    "    crystal_output = Crystal_output().read_cry_output('./data/crystal/lts/sp/output/lts_sp_%s.out'%str(i))\n",
    "    if crystal_output.get_final_energy() != None and crystal_output.converged == True:\n",
    "        energies_sp.append(crystal_output.get_final_energy())\n",
    "        gap_sp.append(crystal_output.get_band_gap())\n",
    "    else:\n",
    "        print(i)"
   ]
  },
  {
   "cell_type": "markdown",
   "id": "a99fbcbb",
   "metadata": {},
   "source": [
    "#### Optimised geometry"
   ]
  },
  {
   "cell_type": "code",
   "execution_count": null,
   "id": "734cee86",
   "metadata": {},
   "outputs": [],
   "source": [
    "energies_opt = []\n",
    "gap_opt = []\n",
    "for i in range(len(structures)):\n",
    "    #crystal_output = Crystal_output().read_cry_output('./data/crystal/lts/sp/output/lts_sp_%s.out'%str(i))\n",
    "    if crystal_output.get_final_energy() != None:\n",
    "        energies_opt.append(crystal_output.get_final_energy())\n",
    "        gap_opt.append(crystal_output.get_band_gap())"
   ]
  },
  {
   "cell_type": "markdown",
   "id": "1216b289",
   "metadata": {},
   "source": [
    "## Covert the LTS dataset to ASE"
   ]
  },
  {
   "cell_type": "code",
   "execution_count": 5,
   "id": "a0c3ee53",
   "metadata": {},
   "outputs": [],
   "source": [
    "ase_structures = []\n",
    "for i in range(len(structures)):\n",
    "    ase_struct = AseAtomsAdaptor().get_atoms(structures[i])\n",
    "    ase_structures.append(ase_struct)"
   ]
  },
  {
   "cell_type": "markdown",
   "id": "920fb8e3",
   "metadata": {},
   "source": [
    "# <a id='descriptors'>Descriptors</a>"
   ]
  },
  {
   "cell_type": "markdown",
   "id": "1e5dbb3a",
   "metadata": {},
   "source": [
    "## Coulomb Matrix\n",
    "\n",
    "Equations"
   ]
  },
  {
   "cell_type": "code",
   "execution_count": 38,
   "id": "31436236",
   "metadata": {},
   "outputs": [
    {
     "name": "stdout",
     "output_type": "stream",
     "text": [
      "matrices read: 200 , time: 0:00:00.039308\n",
      "matrices read: 400 , time: 0:00:00.072035\n",
      "matrices read: 600 , time: 0:00:00.094009\n",
      "matrices read: 800 , time: 0:00:00.113769\n",
      "matrices read: 1000 , time: 0:00:00.133621\n",
      "matrices read: 1200 , time: 0:00:00.153423\n",
      "matrices read: 1400 , time: 0:00:00.173584\n",
      "matrices read: 1600 , time: 0:00:00.193368\n",
      "matrices read: 1800 , time: 0:00:00.213342\n",
      "matrices read: 2000 , time: 0:00:00.233015\n",
      "matrices read: 2200 , time: 0:00:00.252825\n",
      "matrices read: 2400 , time: 0:00:00.272754\n",
      "matrices read: 2600 , time: 0:00:00.292513\n",
      "matrices read: 2800 , time: 0:00:00.312169\n",
      "matrices read: 3000 , time: 0:00:00.331856\n",
      "matrices read: 3200 , time: 0:00:00.351466\n",
      "matrices read: 3400 , time: 0:00:00.371298\n",
      "matrices read: 3600 , time: 0:00:00.391288\n",
      "matrices read: 3800 , time: 0:00:00.411228\n",
      "matrices read: 4000 , time: 0:00:00.431108\n",
      "Number of matrices read:  4023\n",
      "--- 0:00:00.436803 time taken ---\n"
     ]
    }
   ],
   "source": [
    "#dscribe descriptors\n",
    "from dscribe.descriptors import CoulombMatrix\n",
    "\n",
    "cm_dscribe = []\n",
    "cm_ds = CoulombMatrix(n_atoms_max=54,permutation=\"eigenspectrum\")\n",
    "start = datetime.now()\n",
    "for i,ase_struct in enumerate(ase_structures):\n",
    "    dscribe_matrix = cm_ds.create(ase_struct)\n",
    "    cm_dscribe.append(dscribe_matrix)\n",
    "    now = datetime.now()\n",
    "    if (i+1)%200 == 0: \n",
    "        print(\"matrices read:\", len(cm_dscribe),\", time:\", (now - start))\n",
    "cm_dscribe = np.array(cm_dscribe)   \n",
    "print('Number of matrices read: ', len(cm_dscribe))\n",
    "print(\"--- %s time taken ---\" % (datetime.now()- start))"
   ]
  },
  {
   "cell_type": "markdown",
   "id": "38ed00b8",
   "metadata": {},
   "source": [
    "### Inspect the descriptor"
   ]
  },
  {
   "cell_type": "markdown",
   "id": "542e8a4c",
   "metadata": {},
   "source": [
    "#### Full matrix"
   ]
  },
  {
   "cell_type": "code",
   "execution_count": 53,
   "id": "44af9c18",
   "metadata": {},
   "outputs": [
    {
     "data": {
      "text/plain": [
       "array([[  6.98330508,   2.50278676,   2.50278676, ...,  18.87719988,\n",
       "          6.29239996,  10.89875643],\n",
       "       [  2.50278676,   6.98330508,   1.25139338, ...,  10.89875643,\n",
       "          4.33072666,   6.29239996],\n",
       "       [  2.50278676,   1.25139338,   6.98330508, ...,  10.89875643,\n",
       "         10.89875643,  18.87719988],\n",
       "       ...,\n",
       "       [ 18.87719988,  10.89875643,  10.89875643, ..., 388.02344103,\n",
       "         35.59518946,  71.19037891],\n",
       "       [  6.29239996,   4.33072666,  10.89875643, ...,  35.59518946,\n",
       "        388.02344103,  71.19037891],\n",
       "       [ 10.89875643,   6.29239996,  18.87719988, ...,  71.19037891,\n",
       "         71.19037891, 388.02344103]])"
      ]
     },
     "execution_count": 53,
     "metadata": {},
     "output_type": "execute_result"
    }
   ],
   "source": [
    "cm_ds = CoulombMatrix(n_atoms_max=54,permutation='none',flatten=False)\n",
    "cm_ds.create(ase_structures[0])"
   ]
  },
  {
   "cell_type": "markdown",
   "id": "5b4ca5f3",
   "metadata": {},
   "source": [
    "#### Eigenvalues only"
   ]
  },
  {
   "cell_type": "code",
   "execution_count": 54,
   "id": "aecf3437",
   "metadata": {},
   "outputs": [
    {
     "data": {
      "text/plain": [
       "array([2679.77619447, 1133.67577892,  913.07374493,  841.08011951,\n",
       "        712.6289803 ,  708.830714  ,  692.25295309,  656.98047438,\n",
       "        655.93789699,  611.12050477,  467.43255314,  434.36093126,\n",
       "        405.95650918,  373.37691024,  360.90885612,  360.73370676,\n",
       "        330.59963438,  323.17143181,  321.91922861,  319.70671666,\n",
       "        317.12026943,  310.00661992,  304.11487923,  301.61723033,\n",
       "        299.21583906,  298.12478161,  296.60093965,  292.83209275,\n",
       "        292.52858515,  292.14396424,  291.40954568,  283.9316412 ,\n",
       "        283.8511157 ,  283.12161825,  282.57751345,  280.79923438,\n",
       "         12.8666636 ,    7.39275912,    7.03464999,    5.57408163,\n",
       "          5.28041001,    4.54978872,    4.52989384,    4.34655433,\n",
       "          4.22686951,    4.14798147,    3.80471049,    3.74741204,\n",
       "          3.72709043,    3.52626779,    3.47022584,    3.37089434,\n",
       "          3.33626234,    3.28758742])"
      ]
     },
     "execution_count": 54,
     "metadata": {},
     "output_type": "execute_result"
    }
   ],
   "source": [
    "cm_ds = CoulombMatrix(n_atoms_max=54,permutation='eigenspectrum')\n",
    "cm_ds.create(ase_structures[0])"
   ]
  },
  {
   "cell_type": "code",
   "execution_count": 44,
   "id": "53b8192e",
   "metadata": {},
   "outputs": [],
   "source": [
    "# Save cme to file\n",
    "np.save('./data/descriptors/cm_dscribe.npy',cm_dscribe,allow_pickle=True)"
   ]
  },
  {
   "cell_type": "code",
   "execution_count": 55,
   "id": "5db00857",
   "metadata": {},
   "outputs": [],
   "source": [
    "# Read cme from file\n",
    "cm_dscribe = np.load('./data/descriptors/cm_dscribe.npy',allow_pickle=True)"
   ]
  },
  {
   "cell_type": "markdown",
   "id": "384ada38",
   "metadata": {},
   "source": [
    "### Test the parameters"
   ]
  },
  {
   "cell_type": "code",
   "execution_count": null,
   "id": "2c064018",
   "metadata": {},
   "outputs": [],
   "source": []
  },
  {
   "cell_type": "code",
   "execution_count": null,
   "id": "53a8e091",
   "metadata": {},
   "outputs": [],
   "source": []
  },
  {
   "cell_type": "markdown",
   "id": "6d9370cb",
   "metadata": {},
   "source": [
    "# SOAP"
   ]
  },
  {
   "cell_type": "code",
   "execution_count": null,
   "id": "6b8abe22",
   "metadata": {},
   "outputs": [],
   "source": []
  },
  {
   "cell_type": "code",
   "execution_count": null,
   "id": "3fd86ffd",
   "metadata": {},
   "outputs": [],
   "source": []
  },
  {
   "cell_type": "markdown",
   "id": "38151a2e",
   "metadata": {},
   "source": [
    "# <a id='ml'>Machine learning</a>"
   ]
  },
  {
   "cell_type": "markdown",
   "id": "b222207a",
   "metadata": {},
   "source": [
    "## Data normalisation"
   ]
  },
  {
   "cell_type": "markdown",
   "id": "bfc963e7",
   "metadata": {},
   "source": [
    "### MinMaxScaler"
   ]
  },
  {
   "cell_type": "code",
   "execution_count": null,
   "id": "58956fe1",
   "metadata": {},
   "outputs": [],
   "source": [
    "from sklearn.preprocessing import StandardScaler , MinMaxScaler \n",
    "\n",
    "X_train, X_test, y_train, y_test = train_test_split(descriptor, energies, random_state=1)\n",
    "\n",
    "scaler = MinMaxScaler()  \n",
    "scaler.fit(X_train)  \n",
    "X_train = scaler.transform(X_train)  \n",
    "X_test = scaler.transform(X_test)  "
   ]
  },
  {
   "cell_type": "markdown",
   "id": "6190303e",
   "metadata": {},
   "source": [
    "### StandardScaler"
   ]
  },
  {
   "cell_type": "code",
   "execution_count": null,
   "id": "efcca825",
   "metadata": {},
   "outputs": [],
   "source": [
    "from sklearn.preprocessing import StandardScaler , MinMaxScaler \n",
    "\n",
    "X_train, X_test, y_train, y_test = train_test_split(descriptor, energies, random_state=1)\n",
    "\n",
    "scaler = StandardScaler()  \n",
    "scaler.fit(X_train)  \n",
    "X_train = scaler.transform(X_train)  \n",
    "X_test = scaler.transform(X_test)  "
   ]
  },
  {
   "cell_type": "code",
   "execution_count": null,
   "id": "1ddf510c",
   "metadata": {},
   "outputs": [],
   "source": []
  },
  {
   "cell_type": "markdown",
   "id": "28bcbd24",
   "metadata": {},
   "source": [
    "# <a id='protocol'>Protocol</a>"
   ]
  },
  {
   "cell_type": "markdown",
   "id": "2aa709ac",
   "metadata": {},
   "source": [
    "# <a id='symmetry'>Symmetry analysis</a>\n",
    "\n",
    "Selected structures:\n",
    "- 8 - 4008\n",
    "- 6 - 0\n",
    "- 4 - 25\n",
    "- 3 - 3291\n",
    "- 2 - 2278\n",
    "- 1 - 1829"
   ]
  },
  {
   "cell_type": "code",
   "execution_count": 17,
   "id": "789ff74c",
   "metadata": {},
   "outputs": [],
   "source": [
    "selected_structures = [4008, 0, 25, 3291, 2278, 1829]\n"
   ]
  }
 ],
 "metadata": {
  "kernelspec": {
   "display_name": "Python 3 (ipykernel)",
   "language": "python",
   "name": "python3"
  },
  "language_info": {
   "codemirror_mode": {
    "name": "ipython",
    "version": 3
   },
   "file_extension": ".py",
   "mimetype": "text/x-python",
   "name": "python",
   "nbconvert_exporter": "python",
   "pygments_lexer": "ipython3",
   "version": "3.9.10"
  }
 },
 "nbformat": 4,
 "nbformat_minor": 5
}
