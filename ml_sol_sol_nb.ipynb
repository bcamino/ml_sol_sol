{
 "cells": [
  {
   "cell_type": "markdown",
   "id": "7babc0f3",
   "metadata": {},
   "source": [
    "# Machine learning for solid solutions (Li2TiS3)"
   ]
  },
  {
   "cell_type": "markdown",
   "id": "401c7464",
   "metadata": {},
   "source": [
    "This notebook is divided into these sections:\n",
    "- [LTS dataset](#lts)\n",
    "    - write CRYSTAL input files\n",
    "    - read CRYSTAL output files\n",
    "- [Descriptos](#descriptors)\n",
    "- [Machine learning](#ml)\n",
    "    - linear regression"
   ]
  },
  {
   "cell_type": "markdown",
   "id": "f77a340f",
   "metadata": {},
   "source": [
    "# <a id='lts'>LTS dataset</a>"
   ]
  },
  {
   "cell_type": "markdown",
   "id": "920fb8e3",
   "metadata": {},
   "source": [
    "# <a id='descriptors'>Descriptors</a>"
   ]
  },
  {
   "cell_type": "markdown",
   "id": "38151a2e",
   "metadata": {},
   "source": [
    "# <a id='ml'>Machine learning</a>"
   ]
  }
 ],
 "metadata": {
  "kernelspec": {
   "display_name": "Python 3 (ipykernel)",
   "language": "python",
   "name": "python3"
  },
  "language_info": {
   "codemirror_mode": {
    "name": "ipython",
    "version": 3
   },
   "file_extension": ".py",
   "mimetype": "text/x-python",
   "name": "python",
   "nbconvert_exporter": "python",
   "pygments_lexer": "ipython3",
   "version": "3.9.10"
  }
 },
 "nbformat": 4,
 "nbformat_minor": 5
}
