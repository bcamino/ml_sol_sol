{
 "cells": [
  {
   "cell_type": "markdown",
   "id": "7babc0f3",
   "metadata": {},
   "source": [
    "# Machine learning for solid solutions (Li2TiS3)"
   ]
  },
  {
   "cell_type": "markdown",
   "id": "401c7464",
   "metadata": {},
   "source": [
    "This notebook is divided into these sections:\n",
    "- [LTS dataset](#lts)\n",
    "    - write CRYSTAL input files\n",
    "    - read CRYSTAL output files\n",
    "- [Descriptos](#descriptors)\n",
    "- [Machine learning](#ml)\n",
    "    - linear regression"
   ]
  },
  {
   "cell_type": "code",
   "execution_count": 1,
   "id": "b38f9b85",
   "metadata": {},
   "outputs": [
    {
     "name": "stderr",
     "output_type": "stream",
     "text": [
      "<frozen importlib._bootstrap>:228: RuntimeWarning: scipy._lib.messagestream.MessageStream size changed, may indicate binary incompatibility. Expected 56 from C header, got 64 from PyObject\n"
     ]
    }
   ],
   "source": [
    "import os\n",
    "import copy\n",
    "import json\n",
    "import itertools\n",
    "import shutil as sh\n",
    "from pathlib import Path\n",
    "import numpy as np\n",
    "import pandas as pd\n",
    "\n",
    "from CRYSTALpytools.crystal_io import Crystal_output, Crystal_input, Crystal_density, Crystal_gui\n",
    "from CRYSTALpytools.convert import cry_gui2pmg, cry_out2pmg\n",
    "from CRYSTALpytools.utils import view_pmg\n",
    "\n",
    "from pymatgen.io.ase import AseAtomsAdaptor\n",
    "from pymatgen.io.cif import CifWriter\n",
    "from pymatgen.symmetry.analyzer import SpacegroupAnalyzer, PointGroupAnalyzer\n",
    "\n",
    "from ase.visualize import view\n",
    "\n",
    "from dscribe.descriptors import CoulombMatrix\n",
    "\n",
    "from sklearn.neighbors import NearestNeighbors, KNeighborsRegressor\n",
    "from sklearn.metrics import mean_squared_error \n",
    "from sklearn.cluster import KMeans\n",
    "\n",
    "import matplotlib.pyplot as plt\n",
    "plt.rcParams[\"figure.figsize\"] = (15,15)"
   ]
  },
  {
   "cell_type": "markdown",
   "id": "f77a340f",
   "metadata": {},
   "source": [
    "# <a id='lts'>LTS dataset</a>"
   ]
  },
  {
   "cell_type": "code",
   "execution_count": 4,
   "id": "cd079fdd",
   "metadata": {},
   "outputs": [],
   "source": [
    "# New atom\n",
    "new_atom = 'Li'\n",
    "\n",
    "# Read the confcount output\n",
    "cry_output = Crystal_output().read_cry_output('data/crystal/lts/lts_confcount.out')\n",
    "cry_output.get_config_analysis()\n",
    "\n",
    "# Read the initial structure (before substitution)\n",
    "original_structure_gui =  Crystal_gui().read_cry_gui('data/crystal/lts/lts_confcount.gui')\n",
    "original_structure = cry_gui2pmg(original_structure_gui)\n",
    "\n",
    "structures_lts = []\n",
    "li_atoms = []\n",
    "ti_atoms = []\n",
    "for j,substitutions in enumerate(cry_output.atom_type2):\n",
    "    new_structure = original_structure.copy()\n",
    "    for i in substitutions:\n",
    "        new_structure.replace(i-1,new_atom)\n",
    "    structures_lts.append(new_structure)\n",
    "    ti_atoms.append((np.array(cry_output.atom_type1[j])-1).tolist())\n",
    "    li_atoms.append((np.array(cry_output.atom_type2[j])-1).tolist())\n",
    "\n",
    "structures = copy.deepcopy(structures_lts)"
   ]
  },
  {
   "cell_type": "code",
   "execution_count": 5,
   "id": "9ba31f7e",
   "metadata": {},
   "outputs": [
    {
     "data": {
      "text/plain": [
       "4023"
      ]
     },
     "execution_count": 5,
     "metadata": {},
     "output_type": "execute_result"
    }
   ],
   "source": [
    "len(structures)"
   ]
  },
  {
   "cell_type": "markdown",
   "id": "920fb8e3",
   "metadata": {},
   "source": [
    "# <a id='descriptors'>Descriptors</a>"
   ]
  },
  {
   "cell_type": "markdown",
   "id": "e589b8e4",
   "metadata": {},
   "source": [
    "@alex: Build the dscribe descriptors for the LTS structures"
   ]
  },
  {
   "cell_type": "markdown",
   "id": "38151a2e",
   "metadata": {},
   "source": [
    "# <a id='ml'>Machine learning</a>"
   ]
  }
 ],
 "metadata": {
  "kernelspec": {
   "display_name": "Python 3 (ipykernel)",
   "language": "python",
   "name": "python3"
  },
  "language_info": {
   "codemirror_mode": {
    "name": "ipython",
    "version": 3
   },
   "file_extension": ".py",
   "mimetype": "text/x-python",
   "name": "python",
   "nbconvert_exporter": "python",
   "pygments_lexer": "ipython3",
   "version": "3.9.10"
  }
 },
 "nbformat": 4,
 "nbformat_minor": 5
}
