{
 "cells": [
  {
   "cell_type": "markdown",
   "id": "7babc0f3",
   "metadata": {},
   "source": [
    "# Machine learning for solid solutions (Li2TiS3)"
   ]
  },
  {
   "cell_type": "markdown",
   "id": "401c7464",
   "metadata": {},
   "source": [
    "This notebook is divided into these sections:\n",
    "- [LTS dataset](#lts)\n",
    "    - write CRYSTAL input files\n",
    "    - read CRYSTAL output files\n",
    "- [Descriptos](#descriptors)\n",
    "- [Machine learning](#ml)\n",
    "    - linear regression\n",
    "- [Protocol](#protocol)\n",
    "    - [simmetry analysis](#symmetry)"
   ]
  },
  {
   "cell_type": "code",
   "execution_count": 2,
   "id": "b38f9b85",
   "metadata": {},
   "outputs": [],
   "source": [
    "import os\n",
    "import copy\n",
    "import json\n",
    "import itertools\n",
    "import shutil as sh\n",
    "from pathlib import Path\n",
    "import numpy as np\n",
    "import pandas as pd\n",
    "from datetime import datetime\n",
    "\n",
    "from CRYSTALpytools.crystal_io import Crystal_output, Crystal_input, Crystal_density, Crystal_gui\n",
    "from CRYSTALpytools.convert import cry_gui2pmg, cry_out2pmg\n",
    "from CRYSTALpytools.utils import view_pmg\n",
    "\n",
    "from pymatgen.io.ase import AseAtomsAdaptor\n",
    "from pymatgen.io.cif import CifWriter\n",
    "from pymatgen.symmetry.analyzer import SpacegroupAnalyzer, PointGroupAnalyzer\n",
    "\n",
    "from ase.visualize import view\n",
    "\n",
    "#from dscribe.descriptors import CoulombMatrix\n",
    "\n",
    "from sklearn.neighbors import NearestNeighbors, KNeighborsRegressor\n",
    "from sklearn.metrics import mean_squared_error \n",
    "from sklearn.cluster import KMeans\n",
    "\n",
    "import matplotlib.pyplot as plt\n",
    "plt.rcParams[\"figure.figsize\"] = (15,15)"
   ]
  },
  {
   "cell_type": "markdown",
   "id": "f77a340f",
   "metadata": {},
   "source": [
    "# <a id='lts'>LTS dataset - pymatgen</a>"
   ]
  },
  {
   "cell_type": "code",
   "execution_count": null,
   "id": "89c7ebf8",
   "metadata": {},
   "outputs": [],
   "source": []
  },
  {
   "cell_type": "code",
   "execution_count": 3,
   "id": "cd079fdd",
   "metadata": {},
   "outputs": [],
   "source": [
    "# New atom\n",
    "new_atom = 'Li'\n",
    "\n",
    "# Read the confcount output\n",
    "cry_output = Crystal_output().read_cry_output('data/crystal/lts/lts_confcount.out')\n",
    "cry_output.get_config_analysis()\n",
    "\n",
    "# Read the initial structure (before substitution)\n",
    "original_structure_gui =  Crystal_gui().read_cry_gui('data/crystal/lts/lts_confcount.gui')\n",
    "original_structure = cry_gui2pmg(original_structure_gui)\n",
    "\n",
    "structures_lts = []\n",
    "li_atoms = []\n",
    "ti_atoms = []\n",
    "for j,substitutions in enumerate(cry_output.atom_type2):\n",
    "    new_structure = original_structure.copy()\n",
    "    for i in substitutions:\n",
    "        new_structure.replace(i-1,new_atom)\n",
    "    structures_lts.append(new_structure)\n",
    "    ti_atoms.append((np.array(cry_output.atom_type1[j])-1).tolist())\n",
    "    li_atoms.append((np.array(cry_output.atom_type2[j])-1).tolist())\n",
    "\n",
    "structures = copy.deepcopy(structures_lts)"
   ]
  },
  {
   "cell_type": "markdown",
   "id": "0a5c4b63",
   "metadata": {},
   "source": [
    "## Covert the LTS dataset to ASE"
   ]
  },
  {
   "cell_type": "code",
   "execution_count": 4,
   "id": "811cdb13",
   "metadata": {},
   "outputs": [],
   "source": [
    "ase_structures = []\n",
    "for i in range(len(structures)):\n",
    "    ase_struct = AseAtomsAdaptor().get_atoms(structures[i])\n",
    "    ase_structures.append(ase_struct)"
   ]
  },
  {
   "cell_type": "markdown",
   "id": "920fb8e3",
   "metadata": {},
   "source": [
    "# <a id='descriptors'>Descriptors</a>"
   ]
  },
  {
   "cell_type": "markdown",
   "id": "1e5dbb3a",
   "metadata": {},
   "source": [
    "## Coulomb Matrix\n",
    "\n",
    "$M_{ij}^{Coulomb}= \\Bigl\\{^{0.5Z_i^{2.4} \\; \\; for \\; i=j}_{\\frac{Z_iZ_j}{R_{ij}}\\;\\;\\;\\; for \\; i\\neq j}$"
   ]
  },
  {
   "cell_type": "markdown",
   "id": "717024b9",
   "metadata": {},
   "source": [
    "(taken from the Dscribe website)\n",
    "\n",
    "The diagonal elements are the interaction of an atom with itself and are a polynomial fit of the atomic energies to the nuclear charge $Z_i$. \n",
    "\n",
    "The off-diagonal elements represent the Coulomb repulsion between nuclei $i$ and $j$."
   ]
  },
  {
   "cell_type": "code",
   "execution_count": 5,
   "id": "31436236",
   "metadata": {},
   "outputs": [
    {
     "name": "stdout",
     "output_type": "stream",
     "text": [
      "matrices read: 200 , time: 0:00:00.025561\n",
      "matrices read: 400 , time: 0:00:00.051472\n",
      "matrices read: 600 , time: 0:00:00.077386\n",
      "matrices read: 800 , time: 0:00:00.103255\n",
      "matrices read: 1000 , time: 0:00:00.129109\n",
      "matrices read: 1200 , time: 0:00:00.154999\n",
      "matrices read: 1400 , time: 0:00:00.180728\n",
      "matrices read: 1600 , time: 0:00:00.206362\n",
      "matrices read: 1800 , time: 0:00:00.231342\n",
      "matrices read: 2000 , time: 0:00:00.256384\n",
      "matrices read: 2200 , time: 0:00:00.281816\n",
      "matrices read: 2400 , time: 0:00:00.307712\n",
      "matrices read: 2600 , time: 0:00:00.333564\n",
      "matrices read: 2800 , time: 0:00:00.359458\n",
      "matrices read: 3000 , time: 0:00:00.385120\n",
      "matrices read: 3200 , time: 0:00:00.410757\n",
      "matrices read: 3400 , time: 0:00:00.436378\n",
      "matrices read: 3600 , time: 0:00:00.461966\n",
      "matrices read: 3800 , time: 0:00:00.487627\n",
      "matrices read: 4000 , time: 0:00:00.513173\n",
      "Number of matrices read:  4023\n",
      "--- 0:00:00.520786 time taken ---\n"
     ]
    }
   ],
   "source": [
    "#dscribe descriptors\n",
    "from dscribe.descriptors import CoulombMatrix\n",
    "\n",
    "cm_dscribe = []\n",
    "cm_ds = CoulombMatrix(n_atoms_max=54,permutation=\"eigenspectrum\")\n",
    "start = datetime.now()\n",
    "for i,ase_struct in enumerate(ase_structures):\n",
    "    dscribe_matrix = cm_ds.create(ase_struct)\n",
    "    cm_dscribe.append(dscribe_matrix)\n",
    "    now = datetime.now()\n",
    "    if (i+1)%200 == 0: \n",
    "        print(\"matrices read:\", len(cm_dscribe),\", time:\", (now - start))\n",
    "cm_dscribe = np.array(cm_dscribe)   \n",
    "print('Number of matrices read: ', len(cm_dscribe))\n",
    "print(\"--- %s time taken ---\" % (datetime.now()- start))"
   ]
  },
  {
   "cell_type": "markdown",
   "id": "f677a1e9",
   "metadata": {},
   "source": [
    "### Inspect the descriptor"
   ]
  },
  {
   "cell_type": "markdown",
   "id": "ae0ab83c",
   "metadata": {},
   "source": [
    "#### Full matrix"
   ]
  },
  {
   "cell_type": "code",
   "execution_count": 6,
   "id": "809c6812",
   "metadata": {},
   "outputs": [
    {
     "data": {
      "text/plain": [
       "array([[  6.98330508,   2.50278676,   2.50278676, ...,  18.87719988,\n",
       "          6.29239996,  10.89875643],\n",
       "       [  2.50278676,   6.98330508,   1.25139338, ...,  10.89875643,\n",
       "          4.33072666,   6.29239996],\n",
       "       [  2.50278676,   1.25139338,   6.98330508, ...,  10.89875643,\n",
       "         10.89875643,  18.87719988],\n",
       "       ...,\n",
       "       [ 18.87719988,  10.89875643,  10.89875643, ..., 388.02344103,\n",
       "         35.59518946,  71.19037891],\n",
       "       [  6.29239996,   4.33072666,  10.89875643, ...,  35.59518946,\n",
       "        388.02344103,  71.19037891],\n",
       "       [ 10.89875643,   6.29239996,  18.87719988, ...,  71.19037891,\n",
       "         71.19037891, 388.02344103]])"
      ]
     },
     "execution_count": 6,
     "metadata": {},
     "output_type": "execute_result"
    }
   ],
   "source": [
    "cm_ds = CoulombMatrix(n_atoms_max=54,permutation='none',flatten=False)\n",
    "cm_ds.create(ase_structures[0])"
   ]
  },
  {
   "cell_type": "markdown",
   "id": "fe4a1add",
   "metadata": {},
   "source": [
    "#### Eigenvalues only"
   ]
  },
  {
   "cell_type": "code",
   "execution_count": 7,
   "id": "a469d216",
   "metadata": {},
   "outputs": [
    {
     "data": {
      "text/plain": [
       "array([2679.77619447, 1133.67577892,  913.07374493,  841.08011951,\n",
       "        712.6289803 ,  708.830714  ,  692.25295309,  656.98047438,\n",
       "        655.93789699,  611.12050477,  467.43255314,  434.36093126,\n",
       "        405.95650918,  373.37691024,  360.90885612,  360.73370676,\n",
       "        330.59963438,  323.17143181,  321.91922861,  319.70671666,\n",
       "        317.12026943,  310.00661992,  304.11487923,  301.61723033,\n",
       "        299.21583906,  298.12478161,  296.60093965,  292.83209275,\n",
       "        292.52858515,  292.14396424,  291.40954568,  283.9316412 ,\n",
       "        283.8511157 ,  283.12161825,  282.57751345,  280.79923438,\n",
       "         12.8666636 ,    7.39275912,    7.03464999,    5.57408163,\n",
       "          5.28041001,    4.54978872,    4.52989384,    4.34655433,\n",
       "          4.22686951,    4.14798147,    3.80471049,    3.74741204,\n",
       "          3.72709043,    3.52626779,    3.47022584,    3.37089434,\n",
       "          3.33626234,    3.28758742])"
      ]
     },
     "execution_count": 7,
     "metadata": {},
     "output_type": "execute_result"
    }
   ],
   "source": [
    "cm_ds = CoulombMatrix(n_atoms_max=54,permutation='eigenspectrum')\n",
    "cm_ds.create(ase_structures[0])"
   ]
  },
  {
   "cell_type": "code",
   "execution_count": 10,
   "id": "53b8192e",
   "metadata": {},
   "outputs": [],
   "source": [
    "# Save cme to file\n",
    "np.save('./data/descriptors/cm_dscribe.npy',cm_dscribe,allow_pickle=True)"
   ]
  },
  {
   "cell_type": "code",
   "execution_count": 21,
   "id": "5e0e82c1",
   "metadata": {},
   "outputs": [
    {
     "data": {
      "text/plain": [
       "(4023, 54)"
      ]
     },
     "execution_count": 21,
     "metadata": {},
     "output_type": "execute_result"
    }
   ],
   "source": [
    "# Read cme from file\n",
    "cm_dscribe = np.load('./data/descriptors/cm_dscribe.npy',allow_pickle=True)\n",
    "cm_dscribe.shape"
   ]
  },
  {
   "cell_type": "markdown",
   "id": "4ff74240",
   "metadata": {},
   "source": [
    "### Test the parameters"
   ]
  },
  {
   "cell_type": "markdown",
   "id": "37963571",
   "metadata": {},
   "source": [
    "#there's not really any parameters that needed to be set for CME as there is only the maximum atoms"
   ]
  },
  {
   "cell_type": "code",
   "execution_count": null,
   "id": "47a71f13",
   "metadata": {},
   "outputs": [],
   "source": []
  },
  {
   "cell_type": "markdown",
   "id": "b5e366d1",
   "metadata": {},
   "source": [
    "# SOAP"
   ]
  },
  {
   "cell_type": "markdown",
   "id": "a2822fd7",
   "metadata": {},
   "source": [
    "$P_{nn'l}^{Z_1Z_2} = \\pi \\sqrt{\\frac{8}{2l+1}}\\sum c_{nlm}^{Z_1}*c_{n'lm}^{Z_2}$"
   ]
  },
  {
   "cell_type": "markdown",
   "id": "28beb4dc",
   "metadata": {},
   "source": [
    "where the $n$ indices for the different radial basis functions for up to $n_{max}$, $l$ is the angular degree of the spherical harmonics up to $l_{max}$. \n",
    "<br>\n",
    "The defult for Dscribe descriptors are the spherical gaussian type orbitals as riadial baiss functions."
   ]
  },
  {
   "cell_type": "code",
   "execution_count": 13,
   "id": "8ccb1c98",
   "metadata": {},
   "outputs": [],
   "source": [
    "#setting up the SOAP descriptor\n",
    "\n",
    "from dscribe.descriptors import SOAP\n",
    "\n",
    "\n",
    "rcut = 6.0\n",
    "nmax = 8\n",
    "lmax = 6\n",
    "\n",
    "soap = SOAP(\n",
    "    species = [\"Li\", \"Ti\", \"S\"],\n",
    "    periodic= True,\n",
    "    r_cut=rcut,\n",
    "    n_max=nmax,\n",
    "    l_max=lmax\n",
    ")"
   ]
  },
  {
   "cell_type": "code",
   "execution_count": 17,
   "id": "6083a619",
   "metadata": {},
   "outputs": [
    {
     "name": "stdout",
     "output_type": "stream",
     "text": [
      "matrices read: 20 , time: 0:00:00.311403\n",
      "matrices read: 200 , time: 0:00:02.815383\n",
      "matrices read: 400 , time: 0:00:05.536582\n",
      "matrices read: 600 , time: 0:00:08.269389\n",
      "matrices read: 800 , time: 0:00:10.971945\n",
      "matrices read: 1000 , time: 0:00:13.685848\n",
      "matrices read: 1200 , time: 0:00:16.391911\n",
      "matrices read: 1400 , time: 0:00:19.191675\n",
      "matrices read: 1600 , time: 0:00:21.916543\n",
      "matrices read: 1800 , time: 0:00:24.629409\n",
      "matrices read: 2000 , time: 0:00:27.375925\n",
      "matrices read: 2200 , time: 0:00:30.110905\n",
      "matrices read: 2400 , time: 0:00:32.816456\n",
      "matrices read: 2600 , time: 0:00:35.615587\n",
      "matrices read: 2800 , time: 0:00:38.381084\n",
      "matrices read: 3000 , time: 0:00:41.158453\n",
      "matrices read: 3200 , time: 0:00:43.958775\n",
      "matrices read: 3400 , time: 0:00:46.748881\n",
      "matrices read: 3600 , time: 0:00:49.490178\n",
      "matrices read: 3800 , time: 0:00:52.329624\n",
      "matrices read: 4000 , time: 0:00:55.200733\n",
      "Number of matrices read:  4023\n",
      "--- 0:00:55.548953 time taken ---\n"
     ]
    }
   ],
   "source": [
    "soap_dscribe = []\n",
    "start = datetime.now()\n",
    "for i,ase_struct in enumerate(ase_structures):\n",
    "    soap_matrix = soap.create(ase_struct)\n",
    "    #soap_matrix = np.real(soap_matrix)\n",
    "    soap_dscribe.append(soap_matrix)\n",
    "    now = datetime.now()\n",
    "    if int(len(soap_dscribe)) == 20:\n",
    "        print(\"matrices read:\", len(soap_dscribe),\", time:\", (now - start))\n",
    "    if int(len(soap_dscribe))%200 == 0: \n",
    "        print(\"matrices read:\", len(soap_dscribe),\", time:\", (now - start))\n",
    "    \n",
    "print('Number of matrices read: ', len(soap_dscribe))\n",
    "print(\"--- %s time taken ---\" % ((datetime.now() - start)))"
   ]
  },
  {
   "cell_type": "code",
   "execution_count": 18,
   "id": "bef5f13f",
   "metadata": {},
   "outputs": [],
   "source": [
    "# Save SOAP to file\n",
    "np.save('./data/descriptors/soap_dscribe.npy',soap_dscribe,allow_pickle=True)"
   ]
  },
  {
   "cell_type": "code",
   "execution_count": 22,
   "id": "54f9a000",
   "metadata": {},
   "outputs": [
    {
     "data": {
      "text/plain": [
       "(4023, 54, 2100)"
      ]
     },
     "execution_count": 22,
     "metadata": {},
     "output_type": "execute_result"
    }
   ],
   "source": [
    "# Read SOAP from file\n",
    "soap_dscribe = np.load('./data/descriptors/soap_dscribe.npy',allow_pickle=True)\n",
    "soap_dscribe.shape"
   ]
  },
  {
   "cell_type": "code",
   "execution_count": null,
   "id": "40dd4c15",
   "metadata": {},
   "outputs": [],
   "source": [
    "print(nmax)"
   ]
  },
  {
   "cell_type": "markdown",
   "id": "d6b72828",
   "metadata": {},
   "source": [
    "###  Inspection of the descriptor"
   ]
  },
  {
   "cell_type": "code",
   "execution_count": null,
   "id": "464353df",
   "metadata": {},
   "outputs": [],
   "source": [
    "#changing the parameters to see how the value change:\n",
    "#the changes for the rcut and the nmax:\n",
    "rcut = np.linspace(20,100,81)\n",
    "rcut = rcut/10\n",
    "\n",
    "nmax = list(range(1,13))\n",
    "\n",
    "lmax = 6\n",
    "\n",
    "for i in range(len(rcut)):\n",
    "    for j in range(len(nmax)):\n",
    "        soap = SOAP(\n",
    "            species = [\"Li\", \"Ti\", \"S\"],\n",
    "            periodic= True,\n",
    "            r_cut=rcut[i],\n",
    "            n_max=nmax[j],\n",
    "            l_max=lmax\n",
    "        )\n",
    "        \n",
    "        soap_dscribe_ = []\n",
    "        soap_matrix = soap.create(ase_structures)\n",
    "        soap_dscribe_.append(soap_matrix)\n",
    "        now = datetime.now()\n",
    "        \n",
    "        print('rcut =',rcut[i] , 'nmax =',nmax[j] , 'done')\n",
    "        "
   ]
  },
  {
   "cell_type": "code",
   "execution_count": null,
   "id": "d81cdef2",
   "metadata": {},
   "outputs": [],
   "source": []
  },
  {
   "cell_type": "markdown",
   "id": "d3b38c52",
   "metadata": {},
   "source": [
    "## MBTR Descriptor"
   ]
  },
  {
   "cell_type": "code",
   "execution_count": 56,
   "id": "25992538",
   "metadata": {},
   "outputs": [],
   "source": [
    "from dscribe.descriptors import MBTR\n",
    "\n",
    "#setting up the MBTR descriptor\n",
    "mbtr = MBTR(\n",
    "    species=[\"Li\", \"Ti\", \"S\"],\n",
    "    k1={\n",
    "        \"geometry\": {\"function\": \"atomic_number\"},\n",
    "        \"grid\": {\"min\": 0, \"max\": 8, \"n\": 200, \"sigma\": 0.1},\n",
    "    },\n",
    "    k2={\n",
    "        \"geometry\": {\"function\": \"inverse_distance\"},\n",
    "        \"grid\": {\"min\": 0, \"max\": 1, \"n\": 100, \"sigma\": 0.1},\n",
    "        \"weighting\": {\"function\": \"exp\", \"scale\": 0.5, \"threshold\": 1e-3},\n",
    "    },\n",
    "    k3={\n",
    "        \"geometry\": {\"function\": \"cosine\"},\n",
    "        \"grid\": {\"min\": -1, \"max\": 1, \"n\": 100, \"sigma\": 0.1},\n",
    "        \"weighting\": {\"function\": \"exp\", \"scale\": 0.5, \"threshold\": 1e-3},\n",
    "    },\n",
    "    periodic=True,\n",
    "    normalization=\"l2_each\",\n",
    "    flatten=True,\n",
    "    #sparse=False (only changes the return type)\n",
    ")"
   ]
  },
  {
   "cell_type": "code",
   "execution_count": 90,
   "id": "447bdce9",
   "metadata": {},
   "outputs": [
    {
     "name": "stdout",
     "output_type": "stream",
     "text": [
      "matrices read: 20 , time: 0:00:18.676465\n",
      "matrices read: 200 , time: 0:03:04.618426\n",
      "matrices read: 400 , time: 0:06:11.888169\n",
      "matrices read: 600 , time: 0:09:21.978380\n",
      "matrices read: 800 , time: 0:12:30.620042\n",
      "matrices read: 1000 , time: 0:15:43.693479\n",
      "matrices read: 1200 , time: 0:18:55.219530\n",
      "matrices read: 1400 , time: 0:22:06.129798\n",
      "matrices read: 1600 , time: 0:25:17.181301\n",
      "matrices read: 1800 , time: 0:28:27.808202\n",
      "matrices read: 2000 , time: 0:31:38.854499\n",
      "matrices read: 2200 , time: 0:34:50.827510\n",
      "matrices read: 2400 , time: 0:38:02.551797\n",
      "matrices read: 2600 , time: 0:41:15.546765\n",
      "matrices read: 2800 , time: 0:44:27.683920\n",
      "matrices read: 3000 , time: 0:47:43.159158\n",
      "matrices read: 3200 , time: 0:50:58.429130\n",
      "matrices read: 3400 , time: 0:54:15.664723\n",
      "matrices read: 3600 , time: 0:57:28.496517\n",
      "matrices read: 3800 , time: 1:00:42.225574\n",
      "matrices read: 4000 , time: 1:03:56.288877\n",
      "Number of matrices read:  4023\n",
      "--- 1:04:18.460093 time taken ---\n"
     ]
    }
   ],
   "source": [
    "#MBTR descriptor\n",
    "mbtr_dscribe = []\n",
    "start = datetime.now()\n",
    "for i,ase_struct in enumerate(ase_structures):\n",
    "    mbtr_matrix = mbtr.create(ase_struct)\n",
    "    #mbtr_matrix = np.real(mbtr_matrix)\n",
    "    mbtr_dscribe.append(mbtr_matrix)\n",
    "    now = datetime.now()\n",
    "    if int(len(mbtr_dscribe)) == 20:\n",
    "        print(\"matrices read:\", len(mbtr_dscribe),\", time:\", (now - start))\n",
    "    if int(len(mbtr_dscribe))%200 == 0: \n",
    "        print(\"matrices read:\", len(mbtr_dscribe),\", time:\", (now - start))\n",
    "print('Number of matrices read: ', len(mbtr_dscribe))\n",
    "print(\"--- %s time taken ---\" % ((datetime.now() - start)))"
   ]
  },
  {
   "cell_type": "code",
   "execution_count": null,
   "id": "9b725b53",
   "metadata": {},
   "outputs": [],
   "source": [
    "# Save MBTR to file\n",
    "np.save('./data/descriptors/MBTR_dscribe.npy',mbtr_dscribe,allow_pickle=True)"
   ]
  },
  {
   "cell_type": "code",
   "execution_count": null,
   "id": "ef64ac0b",
   "metadata": {},
   "outputs": [],
   "source": [
    "# Read MBTR from file\n",
    "MBTR_dscribe = np.load('./data/descriptors/MBTR_dscribe.npy',allow_pickle=True)\n",
    "MBTR_dscribe.shape"
   ]
  },
  {
   "cell_type": "code",
   "execution_count": null,
   "id": "3bb60b1b",
   "metadata": {},
   "outputs": [],
   "source": []
  },
  {
   "cell_type": "markdown",
   "id": "ba2a8672",
   "metadata": {},
   "source": [
    "### Inspection of the descriptor"
   ]
  },
  {
   "cell_type": "code",
   "execution_count": null,
   "id": "319faf5e",
   "metadata": {},
   "outputs": [],
   "source": []
  },
  {
   "cell_type": "markdown",
   "id": "149beac3",
   "metadata": {},
   "source": [
    "## Coulomb Matrix from Matminer"
   ]
  },
  {
   "cell_type": "code",
   "execution_count": null,
   "id": "fa18f23f",
   "metadata": {},
   "outputs": [],
   "source": []
  },
  {
   "cell_type": "code",
   "execution_count": null,
   "id": "fff156de",
   "metadata": {},
   "outputs": [],
   "source": []
  },
  {
   "cell_type": "markdown",
   "id": "38151a2e",
   "metadata": {},
   "source": [
    "# <a id='ml'>Machine learning</a>"
   ]
  },
  {
   "cell_type": "code",
   "execution_count": 16,
   "id": "fda5a382",
   "metadata": {},
   "outputs": [
    {
     "data": {
      "text/plain": [
       "ase.atoms.Atoms"
      ]
     },
     "execution_count": 16,
     "metadata": {},
     "output_type": "execute_result"
    }
   ],
   "source": [
    "AseAtomsAdaptor().get_atoms(structures[0])"
   ]
  },
  {
   "cell_type": "markdown",
   "id": "28bcbd24",
   "metadata": {},
   "source": [
    "# <a id='protocol'>Protocol</a>"
   ]
  },
  {
   "cell_type": "markdown",
   "id": "2aa709ac",
   "metadata": {},
   "source": [
    "# <a id='symmetry'>Symmetry analysis</a>\n",
    "\n",
    "Selected structures:\n",
    "- 8 - 4008\n",
    "- 6 - 0\n",
    "- 4 - 25\n",
    "- 3 - 3291\n",
    "- 2 - 2278\n",
    "- 1 - 1829"
   ]
  },
  {
   "cell_type": "code",
   "execution_count": 17,
   "id": "789ff74c",
   "metadata": {},
   "outputs": [],
   "source": [
    "selected_structures = [4008, 0, 25, 3291, 2278, 1829]\n"
   ]
  }
 ],
 "metadata": {
  "kernelspec": {
   "display_name": "Python 3 (ipykernel)",
   "language": "python",
   "name": "python3"
  },
  "language_info": {
   "codemirror_mode": {
    "name": "ipython",
    "version": 3
   },
   "file_extension": ".py",
   "mimetype": "text/x-python",
   "name": "python",
   "nbconvert_exporter": "python",
   "pygments_lexer": "ipython3",
   "version": "3.9.16"
  }
 },
 "nbformat": 4,
 "nbformat_minor": 5
}
