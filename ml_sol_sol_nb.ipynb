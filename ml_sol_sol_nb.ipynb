{
 "cells": [
  {
   "cell_type": "markdown",
   "id": "7babc0f3",
   "metadata": {},
   "source": [
    "# Machine learning for solid solutions"
   ]
  },
  {
   "cell_type": "code",
   "execution_count": null,
   "id": "77200df3",
   "metadata": {},
   "outputs": [],
   "source": []
  },
  {
   "cell_type": "markdown",
   "id": "8c37da1b",
   "metadata": {},
   "source": [
    "## progress\n"
   ]
  },
  {
   "cell_type": "raw",
   "id": "5982c804",
   "metadata": {},
   "source": [
    "create jupyter notebook"
   ]
  },
  {
   "cell_type": "code",
   "execution_count": null,
   "id": "a31bf527",
   "metadata": {},
   "outputs": [],
   "source": []
  }
 ],
 "metadata": {
  "kernelspec": {
   "display_name": "Python 3 (ipykernel)",
   "language": "python",
   "name": "python3"
  },
  "language_info": {
   "codemirror_mode": {
    "name": "ipython",
    "version": 3
   },
   "file_extension": ".py",
   "mimetype": "text/x-python",
   "name": "python",
   "nbconvert_exporter": "python",
   "pygments_lexer": "ipython3",
   "version": "3.9.16"
  }
 },
 "nbformat": 4,
 "nbformat_minor": 5
}
