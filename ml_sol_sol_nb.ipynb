{
 "cells": [
  {
   "cell_type": "markdown",
   "id": "7babc0f3",
   "metadata": {},
   "source": [
    "# Machine learning for solid solutions"
   ]
  },
  {
   "cell_type": "code",
   "execution_count": null,
   "id": "77200df3",
   "metadata": {},
   "outputs": [],
   "source": []
  },
  {
   "cell_type": "markdown",
   "id": "8c37da1b",
   "metadata": {},
   "source": [
    "## progress\n"
   ]
  },
  {
   "cell_type": "raw",
   "id": "5982c804",
   "metadata": {},
   "source": [
    "create jupyter notebook"
   ]
  },
  {
   "cell_type": "markdown",
   "id": "fb69a5c7",
   "metadata": {},
   "source": [
    "## Atomate and Automatminer"
   ]
  },
  {
   "cell_type": "markdown",
   "id": "5cc8cdcc",
   "metadata": {},
   "source": [
    "Note: Atomate is primarily built to work with the VASP electronic structure software, but it is the intention of atomate to support a variety of software <br>\n",
    "https://atomate.org   <br>\n",
    "https://materialsproject.org"
   ]
  },
  {
   "cell_type": "code",
   "execution_count": null,
   "id": "4e3d6235",
   "metadata": {},
   "outputs": [],
   "source": []
  },
  {
   "cell_type": "code",
   "execution_count": null,
   "id": "e267f1ab",
   "metadata": {},
   "outputs": [],
   "source": []
  }
 ],
 "metadata": {
  "kernelspec": {
   "display_name": "Python 3 (ipykernel)",
   "language": "python",
   "name": "python3"
  },
  "language_info": {
   "codemirror_mode": {
    "name": "ipython",
    "version": 3
   },
   "file_extension": ".py",
   "mimetype": "text/x-python",
   "name": "python",
   "nbconvert_exporter": "python",
   "pygments_lexer": "ipython3",
   "version": "3.9.13"
  }
 },
 "nbformat": 4,
 "nbformat_minor": 5
}
